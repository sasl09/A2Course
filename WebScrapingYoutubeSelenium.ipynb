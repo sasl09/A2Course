{
  "cells": [
    {
      "cell_type": "markdown",
      "metadata": {
        "id": "view-in-github",
        "colab_type": "text"
      },
      "source": [
        "<a href=\"https://colab.research.google.com/github/sasl09/A2Course/blob/main/WebScrapingYoutubeSelenium.ipynb\" target=\"_parent\"><img src=\"https://colab.research.google.com/assets/colab-badge.svg\" alt=\"Open In Colab\"/></a>"
      ]
    },
    {
      "cell_type": "markdown",
      "id": "97d98b95-a3fd-433f-99a9-fce71551a8bd",
      "metadata": {
        "id": "97d98b95-a3fd-433f-99a9-fce71551a8bd"
      },
      "source": [
        "### A2 COURSE"
      ]
    },
    {
      "cell_type": "markdown",
      "id": "60e84751-e12f-471a-a779-cd6268b2cafe",
      "metadata": {
        "tags": [],
        "id": "60e84751-e12f-471a-a779-cd6268b2cafe"
      },
      "source": [
        "# Web Scraping con Python"
      ]
    },
    {
      "cell_type": "markdown",
      "id": "e2e05755-8874-4b1b-b68f-243574073c14",
      "metadata": {
        "id": "e2e05755-8874-4b1b-b68f-243574073c14"
      },
      "source": [
        "### Librerías"
      ]
    },
    {
      "cell_type": "markdown",
      "id": "5dc5df30-d5b1-4244-b13a-e7bfb769aef5",
      "metadata": {
        "id": "5dc5df30-d5b1-4244-b13a-e7bfb769aef5"
      },
      "source": [
        "Vamos a necesitar Selenium, BeautifulSoup y Pandas"
      ]
    },
    {
      "cell_type": "markdown",
      "id": "4781e092-2e23-4a6a-beee-e7baa01de547",
      "metadata": {
        "id": "4781e092-2e23-4a6a-beee-e7baa01de547"
      },
      "source": [
        "Instala Selenium con el siguiente código *conda install -c conda-forge selenium*"
      ]
    },
    {
      "cell_type": "markdown",
      "id": "f26fcb1c-cbdf-404a-b6e8-526b2a81479b",
      "metadata": {
        "id": "f26fcb1c-cbdf-404a-b6e8-526b2a81479b"
      },
      "source": [
        "Instala BeautifulSoup con el código *conda install -c anaconda beautifulsoup4*"
      ]
    },
    {
      "cell_type": "markdown",
      "id": "27c2173e-974b-4b77-9c04-349b73f773d4",
      "metadata": {
        "id": "27c2173e-974b-4b77-9c04-349b73f773d4"
      },
      "source": [
        "Ahora Carga Webdriver de Selenium"
      ]
    },
    {
      "cell_type": "code",
      "execution_count": null,
      "id": "fdefd855-2542-4103-b377-497df841d60a",
      "metadata": {
        "id": "fdefd855-2542-4103-b377-497df841d60a"
      },
      "outputs": [],
      "source": [
        "from selenium import webdriver"
      ]
    },
    {
      "cell_type": "markdown",
      "id": "16d21115-5e77-4893-8225-5de083d94f96",
      "metadata": {
        "id": "16d21115-5e77-4893-8225-5de083d94f96"
      },
      "source": [
        "Carga BeautifulSoup de Beautiful Soup"
      ]
    },
    {
      "cell_type": "code",
      "execution_count": null,
      "id": "1e1cec69-a6f3-4100-aa13-fceb78b62c8f",
      "metadata": {
        "id": "1e1cec69-a6f3-4100-aa13-fceb78b62c8f"
      },
      "outputs": [],
      "source": [
        "from bs4 import BeautifulSoup as bs"
      ]
    },
    {
      "cell_type": "code",
      "execution_count": null,
      "id": "d759fcc3-ec11-472a-a170-548231a85016",
      "metadata": {
        "id": "d759fcc3-ec11-472a-a170-548231a85016"
      },
      "outputs": [],
      "source": [
        "import pandas as pd"
      ]
    },
    {
      "cell_type": "markdown",
      "id": "b8a2dd5d-d22f-4566-bd14-659cdaee3197",
      "metadata": {
        "id": "b8a2dd5d-d22f-4566-bd14-659cdaee3197"
      },
      "source": [
        "Y Pandas como PD"
      ]
    },
    {
      "cell_type": "raw",
      "id": "028fd14e-9753-4ecb-9472-5ee32f48bc28",
      "metadata": {
        "id": "028fd14e-9753-4ecb-9472-5ee32f48bc28"
      },
      "source": []
    },
    {
      "cell_type": "markdown",
      "id": "fbe2df9a-e83b-4bec-a837-978eb847b023",
      "metadata": {
        "id": "fbe2df9a-e83b-4bec-a837-978eb847b023"
      },
      "source": [
        "## Configuración"
      ]
    },
    {
      "cell_type": "markdown",
      "id": "de6f69e5-d9a8-4298-a27e-54800bd3c0bf",
      "metadata": {
        "id": "de6f69e5-d9a8-4298-a27e-54800bd3c0bf"
      },
      "source": [
        "Ok, ahora configura webdriver para usar Chrome por default, localiza tu chromedriver y usalo en este comando"
      ]
    },
    {
      "cell_type": "code",
      "execution_count": null,
      "id": "4d36417b-f1f9-4924-a8b4-ef1b74d69f4a",
      "metadata": {
        "id": "4d36417b-f1f9-4924-a8b4-ef1b74d69f4a",
        "outputId": "858b92cb-8978-4acb-e0db-939f8f786c35"
      },
      "outputs": [
        {
          "name": "stdout",
          "output_type": "stream",
          "text": [
            "Collecting webdriver_manager\n",
            "  Using cached webdriver_manager-3.8.5-py2.py3-none-any.whl (27 kB)\n",
            "Requirement already satisfied: requests in c:\\users\\sasl0\\anaconda3\\lib\\site-packages (from webdriver_manager) (2.28.1)\n",
            "Requirement already satisfied: packaging in c:\\users\\sasl0\\anaconda3\\lib\\site-packages (from webdriver_manager) (21.3)\n",
            "Requirement already satisfied: tqdm in c:\\users\\sasl0\\anaconda3\\lib\\site-packages (from webdriver_manager) (4.64.1)\n",
            "Collecting python-dotenv\n",
            "  Downloading python_dotenv-1.0.0-py3-none-any.whl (19 kB)\n",
            "Requirement already satisfied: pyparsing!=3.0.5,>=2.0.2 in c:\\users\\sasl0\\anaconda3\\lib\\site-packages (from packaging->webdriver_manager) (3.0.9)\n",
            "Requirement already satisfied: idna<4,>=2.5 in c:\\users\\sasl0\\anaconda3\\lib\\site-packages (from requests->webdriver_manager) (3.3)\n",
            "Requirement already satisfied: urllib3<1.27,>=1.21.1 in c:\\users\\sasl0\\anaconda3\\lib\\site-packages (from requests->webdriver_manager) (1.26.11)\n",
            "Requirement already satisfied: charset-normalizer<3,>=2 in c:\\users\\sasl0\\anaconda3\\lib\\site-packages (from requests->webdriver_manager) (2.0.4)\n",
            "Requirement already satisfied: certifi>=2017.4.17 in c:\\users\\sasl0\\anaconda3\\lib\\site-packages (from requests->webdriver_manager) (2022.9.14)\n",
            "Requirement already satisfied: colorama in c:\\users\\sasl0\\anaconda3\\lib\\site-packages (from tqdm->webdriver_manager) (0.4.5)\n",
            "Installing collected packages: python-dotenv, webdriver_manager\n",
            "Successfully installed python-dotenv-1.0.0 webdriver_manager-3.8.5\n"
          ]
        }
      ],
      "source": [
        "# !pip install webdriver_manager "
      ]
    },
    {
      "cell_type": "code",
      "execution_count": null,
      "id": "4482b6f1-575f-4023-91b9-7ad3ab67ae04",
      "metadata": {
        "id": "4482b6f1-575f-4023-91b9-7ad3ab67ae04"
      },
      "outputs": [],
      "source": [
        "from webdriver_manager.chrome import ChromeDriverManager"
      ]
    },
    {
      "cell_type": "code",
      "execution_count": null,
      "id": "bc07c1fe-877d-487b-8620-201619c334a4",
      "metadata": {
        "id": "bc07c1fe-877d-487b-8620-201619c334a4",
        "outputId": "62e87457-8a38-4a15-bb75-244ecdb197d0"
      },
      "outputs": [
        {
          "name": "stderr",
          "output_type": "stream",
          "text": [
            "C:\\Users\\SASL0\\AppData\\Local\\Temp\\ipykernel_7488\\1611681779.py:2: DeprecationWarning: executable_path has been deprecated, please pass in a Service object\n",
            "  driver = webdriver.Chrome(ChromeDriverManager().install())\n"
          ]
        }
      ],
      "source": [
        "# driver = webdriver.Chrome(\"C:/chromedriver.exe\")\n",
        "driver = webdriver.Chrome(ChromeDriverManager().install())"
      ]
    },
    {
      "cell_type": "markdown",
      "id": "d554199f-de6c-4193-b0bd-2c3f7aa7a0e6",
      "metadata": {
        "id": "d554199f-de6c-4193-b0bd-2c3f7aa7a0e6"
      },
      "source": [
        "Y arma un driver.get para especificar la página de donde vamos a trabajar"
      ]
    },
    {
      "cell_type": "code",
      "execution_count": null,
      "id": "2e9e13b8-35da-485d-b0be-b4916778829e",
      "metadata": {
        "id": "2e9e13b8-35da-485d-b0be-b4916778829e"
      },
      "outputs": [],
      "source": [
        "# driver.get(\"https://www.inmuebles24.com/terrenos-en-venta-en-fraccionamiento-bugambilias.html\")\n",
        "driver.get(\"https://www.youtube.com\")"
      ]
    },
    {
      "cell_type": "markdown",
      "id": "e76be684-81c9-4620-bac4-a3c841878c06",
      "metadata": {
        "id": "e76be684-81c9-4620-bac4-a3c841878c06"
      },
      "source": [
        "## Extracción de Datos"
      ]
    },
    {
      "cell_type": "markdown",
      "id": "0e2af542-d356-4ebc-ba56-8329945267f5",
      "metadata": {
        "id": "0e2af542-d356-4ebc-ba56-8329945267f5"
      },
      "source": [
        "Guarda el código HTML de la página en un objeto Contenido"
      ]
    },
    {
      "cell_type": "code",
      "execution_count": null,
      "id": "100cc676-8746-4af9-ba49-9deaae8ac314",
      "metadata": {
        "id": "100cc676-8746-4af9-ba49-9deaae8ac314"
      },
      "outputs": [],
      "source": [
        "contenido = driver.page_source"
      ]
    },
    {
      "cell_type": "code",
      "execution_count": null,
      "id": "2ceafce6-32b7-4485-bd3b-c74afb7c6ef1",
      "metadata": {
        "id": "2ceafce6-32b7-4485-bd3b-c74afb7c6ef1"
      },
      "outputs": [],
      "source": [
        "# contenido"
      ]
    },
    {
      "cell_type": "markdown",
      "id": "96838dbf-ae0d-4954-af3a-7b7f6da03ad4",
      "metadata": {
        "id": "96838dbf-ae0d-4954-af3a-7b7f6da03ad4"
      },
      "source": [
        "Conviertelo a BeautifulSoup"
      ]
    },
    {
      "cell_type": "code",
      "execution_count": null,
      "id": "7336ebbb-74e1-480b-975e-32aced23d286",
      "metadata": {
        "id": "7336ebbb-74e1-480b-975e-32aced23d286"
      },
      "outputs": [],
      "source": [
        "soup = bs(contenido)"
      ]
    },
    {
      "cell_type": "code",
      "execution_count": null,
      "id": "b503592c-2589-4017-8dd3-206c3c64c4b4",
      "metadata": {
        "id": "b503592c-2589-4017-8dd3-206c3c64c4b4",
        "outputId": "b61b0ca9-8fb6-4ce6-860b-b9e4e5665369"
      },
      "outputs": [
        {
          "data": {
            "text/plain": [
              "<title>YouTube</title>"
            ]
          },
          "execution_count": 16,
          "metadata": {},
          "output_type": "execute_result"
        }
      ],
      "source": [
        "#Get title\n",
        "soup.title"
      ]
    },
    {
      "cell_type": "markdown",
      "id": "6260254b-5610-4f8b-9e42-800da21315c4",
      "metadata": {
        "id": "6260254b-5610-4f8b-9e42-800da21315c4"
      },
      "source": [
        "Get all titles from videos"
      ]
    },
    {
      "cell_type": "code",
      "execution_count": null,
      "id": "e0bf10b3-4c32-43e5-bfb7-0a9de9936cba",
      "metadata": {
        "id": "e0bf10b3-4c32-43e5-bfb7-0a9de9936cba"
      },
      "outputs": [],
      "source": [
        "#This will get all titles of videos on youtube main page\n",
        "title = []\n",
        "for i in soup.find_all(\"a\", attrs={\"class\":\"yt-simple-endpoint focus-on-expand style-scope ytd-rich-grid-media\"}):\n",
        "    title.append(i.text)"
      ]
    },
    {
      "cell_type": "code",
      "execution_count": null,
      "id": "e572fd6a-cda0-4903-a5a4-6da5f72bc2df",
      "metadata": {
        "id": "e572fd6a-cda0-4903-a5a4-6da5f72bc2df",
        "outputId": "3c726a12-e927-40d7-fad1-6974af82095e"
      },
      "outputs": [
        {
          "data": {
            "text/plain": [
              "['When trash talking goes wrong in Boxing: Jake Paul vs Tommy Fury',\n",
              " '$1 vs $1,000,000 Hotel Room!',\n",
              " 'I Rebuilt EVERY Biome in Hardcore Minecraft',\n",
              " \"I Survived the World's Loneliest Job\",\n",
              " 'NBA ROOKIES vs. NBA LEGENDS',\n",
              " 'Oddly Satisfying That Will Make You Sleepy',\n",
              " 'Who Has Served the Most Time? Ex Cons Rank Themselves',\n",
              " 'Jayloo Global Cosmic Blanak and Coommuninty If',\n",
              " 'Restoring LOADED AK47 PAP!!! Extremely Satisfying!!!',\n",
              " '20 WOMEN VS 1 SIDEMEN: KAI CENAT EDITION',\n",
              " 'I Tasted Every Food At Disneyland',\n",
              " 'Worst Dude Perfect Videos of All Time | OT 23',\n",
              " 'Impossible 0.0000001% Odds!',\n",
              " 'YouTubers Play SQUID GAME In Real Life! *NEW CHALLENGES*',\n",
              " 'What Your Early Twenties Will Be Like',\n",
              " 'Satisfying Videos of Workers Doing Their Job Perfectly',\n",
              " 'Giving 20,000 Shoes To Kids In Africa',\n",
              " 'Pedro Pascal Cries From His Head While Eating Spicy Wings | Hot Ones',\n",
              " 'Shakira: Bzrp Music Sessions, Vol. 53 | The Tonight Show Starring Jimmy Fallon',\n",
              " 'I Played in the NBA Celebrity Game and This Happened…',\n",
              " 'They Had No Idea How Lucky They Were',\n",
              " 'Sporting CP vs. Arsenal: Extended Highlights | UEL Round of 16-1st Leg | CBS Sports Golazo - Europe',\n",
              " 'Limited Life: Episode 2 - BREAD BRIDGE',\n",
              " 'NF - MOTTO',\n",
              " 'Man. United vs. Real Betis: Extended Highlights | UEL Round of 16 - 1st Leg | CBS Sports Golazo',\n",
              " 'TRASH or PASS! NF ( Motto ) [REACTION!!!]',\n",
              " 'TWICE \"SET ME FREE\" M/V',\n",
              " '15-Year-Old Ryley Tate Wilson Stuns Coaches with \"Dancing On My Own\" | The Voice Blind Auditions',\n",
              " 'MEAN GIRLS Rejected For PROM, What Happens Is Shocking | Dhar Mann',\n",
              " 'Making FOOD out of CANDY!! Learn How To Make DIY Edible Candy vs Real Food Challenge',\n",
              " 'Telling RACIST PEOPLE their LOCATION on OMEGLE 4',\n",
              " 'Fortnite Made a HUGE Mistake.']"
            ]
          },
          "execution_count": 18,
          "metadata": {},
          "output_type": "execute_result"
        }
      ],
      "source": [
        "title"
      ]
    },
    {
      "cell_type": "markdown",
      "id": "10a73c93-4697-4ef1-83d1-ef89ddb1b063",
      "metadata": {
        "id": "10a73c93-4697-4ef1-83d1-ef89ddb1b063"
      },
      "source": [
        "Get all channels from videos"
      ]
    },
    {
      "cell_type": "code",
      "execution_count": null,
      "id": "09780f6d-e0cb-4344-9a35-a966b8d5487e",
      "metadata": {
        "id": "09780f6d-e0cb-4344-9a35-a966b8d5487e"
      },
      "outputs": [],
      "source": [
        "#This will get all channels of videos on youtube main page\n",
        "channels = []\n",
        "for i in soup.find_all(\"a\", attrs={\"class\":\"yt-simple-endpoint style-scope yt-formatted-string\"}):\n",
        "    channels.append(i.text)"
      ]
    },
    {
      "cell_type": "code",
      "execution_count": null,
      "id": "eff36b92-a358-450e-aed3-2eadf6d8299c",
      "metadata": {
        "id": "eff36b92-a358-450e-aed3-2eadf6d8299c",
        "outputId": "96ceb5d9-39b5-4f83-daa8-e0e405f967ca"
      },
      "outputs": [
        {
          "data": {
            "text/plain": [
              "['mavmain',\n",
              " 'MrBeast',\n",
              " 'Aust',\n",
              " 'Ryan Trahan',\n",
              " 'REBOUND',\n",
              " 'SSSniperWolf',\n",
              " 'Jubilee',\n",
              " 'Anna Remi HPL - Topic',\n",
              " 'Rustic Restorations',\n",
              " 'Sidemen',\n",
              " 'Nick DiGiovanni',\n",
              " 'Dude Perfect',\n",
              " 'Beast Reacts',\n",
              " 'Jordan Matter',\n",
              " 'TheOdd1sOut',\n",
              " '#Mind Warehouse',\n",
              " 'Beast Philanthropy',\n",
              " 'First We Feast',\n",
              " 'The Tonight Show Starring Jimmy Fallon',\n",
              " 'Jesser',\n",
              " 'Daily Dose Of Internet',\n",
              " 'CBS Sports Golazo - Europe',\n",
              " 'Grian',\n",
              " 'NFrealmusic',\n",
              " 'CBS Sports Golazo - Europe',\n",
              " 'LayedBakDFR',\n",
              " 'JYP Entertainment',\n",
              " 'The Voice',\n",
              " 'Dhar Mann Studios Top Videos',\n",
              " 'Collins Key',\n",
              " 'samfromNJ',\n",
              " 'SypherPK']"
            ]
          },
          "execution_count": 21,
          "metadata": {},
          "output_type": "execute_result"
        }
      ],
      "source": [
        "channels"
      ]
    },
    {
      "cell_type": "code",
      "execution_count": null,
      "id": "f1333e75-480c-4511-aa70-9a94b601c59d",
      "metadata": {
        "id": "f1333e75-480c-4511-aa70-9a94b601c59d"
      },
      "outputs": [],
      "source": [
        "#This will get all channels of videos on youtube main page\n",
        "views = []\n",
        "for i in soup.find_all(\"span\", attrs={\"class\":\"inline-metadata-item style-scope ytd-video-meta-block\"}):\n",
        "    views.append(i.text)"
      ]
    },
    {
      "cell_type": "code",
      "execution_count": null,
      "id": "2391cb74-d660-47dd-88c5-2c9e7ea9701b",
      "metadata": {
        "id": "2391cb74-d660-47dd-88c5-2c9e7ea9701b",
        "outputId": "40d86f91-ded4-4fc0-db2c-afe008d489c2"
      },
      "outputs": [
        {
          "data": {
            "text/plain": [
              "['367K views',\n",
              " '12 days ago',\n",
              " '180M views',\n",
              " '4 months ago',\n",
              " '2.4M views',\n",
              " '7 days ago',\n",
              " '922K views',\n",
              " '7 hours ago',\n",
              " '12M views',\n",
              " '1 year ago',\n",
              " '13M views',\n",
              " '10 months ago',\n",
              " '7.4M views',\n",
              " '4 months ago',\n",
              " '274 views',\n",
              " '3 days ago',\n",
              " '185M views',\n",
              " '16M views',\n",
              " '25M views',\n",
              " '105M views',\n",
              " '63M views',\n",
              " '20M views',\n",
              " '121M views',\n",
              " '10M views',\n",
              " '3.9M views',\n",
              " '19M views',\n",
              " '8.3M views',\n",
              " '103M views',\n",
              " '3.6M views',\n",
              " '3 weeks ago',\n",
              " '31M views',\n",
              " '1 month ago',\n",
              " '4.5M views',\n",
              " '8 months ago',\n",
              " '34M views',\n",
              " '2 years ago',\n",
              " '4.6M views',\n",
              " '2 days ago',\n",
              " '29M views',\n",
              " '1 year ago',\n",
              " '18M views',\n",
              " '1 year ago',\n",
              " '1M views',\n",
              " '3 months ago',\n",
              " '3.5M views',\n",
              " '3 days ago',\n",
              " '6.4M views',\n",
              " '2 days ago',\n",
              " '2.8M views',\n",
              " '16 hours ago',\n",
              " '1.4M views',\n",
              " '2 days ago',\n",
              " '5M views',\n",
              " '1 day ago',\n",
              " '452K views',\n",
              " '2 days ago',\n",
              " '1.1M views',\n",
              " '1 day ago',\n",
              " '2.8M views',\n",
              " '2 days ago',\n",
              " '696K views',\n",
              " '1 day ago',\n",
              " '252K views',\n",
              " '2 days ago',\n",
              " '23M views',\n",
              " '1 day ago',\n",
              " '953K views',\n",
              " '1 day ago',\n",
              " '9.5M views',\n",
              " '1 year ago',\n",
              " '95M views',\n",
              " '5 years ago',\n",
              " '3.9M views',\n",
              " '8 months ago',\n",
              " '61K views',\n",
              " '46 minutes ago']"
            ]
          },
          "execution_count": 23,
          "metadata": {},
          "output_type": "execute_result"
        }
      ],
      "source": [
        "views"
      ]
    },
    {
      "cell_type": "code",
      "execution_count": null,
      "id": "e76f7233-c962-488c-bfcd-fcced531d220",
      "metadata": {
        "id": "e76f7233-c962-488c-bfcd-fcced531d220",
        "outputId": "f0a99dfc-dc93-47bf-91e0-5e479b2ede30"
      },
      "outputs": [
        {
          "name": "stdout",
          "output_type": "stream",
          "text": [
            "367K views. 12 days ago\n",
            "12 days ago. 180M views\n",
            "180M views. 4 months ago\n",
            "4 months ago. 2.4M views\n",
            "2.4M views. 7 days ago\n",
            "7 days ago. 922K views\n",
            "922K views. 7 hours ago\n",
            "7 hours ago. 12M views\n",
            "12M views. 1 year ago\n",
            "1 year ago. 13M views\n",
            "13M views. 10 months ago\n",
            "10 months ago. 7.4M views\n",
            "7.4M views. 4 months ago\n",
            "4 months ago. 274 views\n",
            "274 views. 3 days ago\n",
            "3 days ago. 185M views\n",
            "185M views. 16M views\n",
            "16M views. 25M views\n",
            "25M views. 105M views\n",
            "105M views. 63M views\n",
            "63M views. 20M views\n",
            "20M views. 121M views\n",
            "121M views. 10M views\n",
            "10M views. 3.9M views\n",
            "3.9M views. 19M views\n",
            "19M views. 8.3M views\n",
            "8.3M views. 103M views\n",
            "103M views. 3.6M views\n",
            "3.6M views. 3 weeks ago\n",
            "3 weeks ago. 31M views\n",
            "31M views. 1 month ago\n",
            "1 month ago. 4.5M views\n",
            "4.5M views. 8 months ago\n",
            "8 months ago. 34M views\n",
            "34M views. 2 years ago\n",
            "2 years ago. 4.6M views\n",
            "4.6M views. 2 days ago\n",
            "2 days ago. 29M views\n",
            "29M views. 1 year ago\n",
            "1 year ago. 18M views\n",
            "18M views. 1 year ago\n",
            "1 year ago. 1M views\n",
            "1M views. 3 months ago\n",
            "3 months ago. 3.5M views\n",
            "3.5M views. 3 days ago\n",
            "3 days ago. 6.4M views\n",
            "6.4M views. 2 days ago\n",
            "2 days ago. 2.8M views\n",
            "2.8M views. 16 hours ago\n",
            "16 hours ago. 1.4M views\n",
            "1.4M views. 2 days ago\n",
            "2 days ago. 5M views\n",
            "5M views. 1 day ago\n",
            "1 day ago. 452K views\n",
            "452K views. 2 days ago\n",
            "2 days ago. 1.1M views\n",
            "1.1M views. 1 day ago\n",
            "1 day ago. 2.8M views\n",
            "2.8M views. 2 days ago\n",
            "2 days ago. 696K views\n",
            "696K views. 1 day ago\n",
            "1 day ago. 252K views\n",
            "252K views. 2 days ago\n",
            "2 days ago. 23M views\n",
            "23M views. 1 day ago\n",
            "1 day ago. 953K views\n",
            "953K views. 1 day ago\n",
            "1 day ago. 9.5M views\n",
            "9.5M views. 1 year ago\n",
            "1 year ago. 95M views\n",
            "95M views. 5 years ago\n",
            "5 years ago. 3.9M views\n",
            "3.9M views. 8 months ago\n",
            "8 months ago. 61K views\n",
            "61K views. 46 minutes ago\n"
          ]
        },
        {
          "data": {
            "text/plain": [
              "['367K views. 12 days ago',\n",
              " '12 days ago. 180M views',\n",
              " '180M views. 4 months ago',\n",
              " '4 months ago. 2.4M views',\n",
              " '2.4M views. 7 days ago',\n",
              " '7 days ago. 922K views',\n",
              " '922K views. 7 hours ago',\n",
              " '7 hours ago. 12M views',\n",
              " '12M views. 1 year ago',\n",
              " '1 year ago. 13M views',\n",
              " '13M views. 10 months ago',\n",
              " '10 months ago. 7.4M views',\n",
              " '7.4M views. 4 months ago',\n",
              " '4 months ago. 274 views',\n",
              " '274 views. 3 days ago',\n",
              " '3 days ago. 185M views',\n",
              " '185M views. 16M views',\n",
              " '16M views. 25M views',\n",
              " '25M views. 105M views',\n",
              " '105M views. 63M views',\n",
              " '63M views. 20M views',\n",
              " '20M views. 121M views',\n",
              " '121M views. 10M views',\n",
              " '10M views. 3.9M views',\n",
              " '3.9M views. 19M views',\n",
              " '19M views. 8.3M views',\n",
              " '8.3M views. 103M views',\n",
              " '103M views. 3.6M views',\n",
              " '3.6M views. 3 weeks ago',\n",
              " '3 weeks ago. 31M views',\n",
              " '31M views. 1 month ago',\n",
              " '1 month ago. 4.5M views',\n",
              " '4.5M views. 8 months ago',\n",
              " '8 months ago. 34M views',\n",
              " '34M views. 2 years ago',\n",
              " '2 years ago. 4.6M views',\n",
              " '4.6M views. 2 days ago',\n",
              " '2 days ago. 29M views',\n",
              " '29M views. 1 year ago',\n",
              " '1 year ago. 18M views',\n",
              " '18M views. 1 year ago',\n",
              " '1 year ago. 1M views',\n",
              " '1M views. 3 months ago',\n",
              " '3 months ago. 3.5M views',\n",
              " '3.5M views. 3 days ago',\n",
              " '3 days ago. 6.4M views',\n",
              " '6.4M views. 2 days ago',\n",
              " '2 days ago. 2.8M views',\n",
              " '2.8M views. 16 hours ago',\n",
              " '16 hours ago. 1.4M views',\n",
              " '1.4M views. 2 days ago',\n",
              " '2 days ago. 5M views',\n",
              " '5M views. 1 day ago',\n",
              " '1 day ago. 452K views',\n",
              " '452K views. 2 days ago',\n",
              " '2 days ago. 1.1M views',\n",
              " '1.1M views. 1 day ago',\n",
              " '1 day ago. 2.8M views',\n",
              " '2.8M views. 2 days ago',\n",
              " '2 days ago. 696K views',\n",
              " '696K views. 1 day ago',\n",
              " '1 day ago. 252K views',\n",
              " '252K views. 2 days ago',\n",
              " '2 days ago. 23M views',\n",
              " '23M views. 1 day ago',\n",
              " '1 day ago. 953K views',\n",
              " '953K views. 1 day ago',\n",
              " '1 day ago. 9.5M views',\n",
              " '9.5M views. 1 year ago',\n",
              " '1 year ago. 95M views',\n",
              " '95M views. 5 years ago',\n",
              " '5 years ago. 3.9M views',\n",
              " '3.9M views. 8 months ago',\n",
              " '8 months ago. 61K views',\n",
              " '61K views. 46 minutes ago']"
            ]
          },
          "execution_count": 24,
          "metadata": {},
          "output_type": "execute_result"
        }
      ],
      "source": [
        "#Put together every 2 indexes in list (they belong to same video)\n",
        "viewsTime = []\n",
        "for i in range(len(views)-1):\n",
        "    if i >= 0:\n",
        "        visTim = str(views[i]) + \". \" + str(views[i+1])\n",
        "        print(visTim)\n",
        "        viewsTime.append(visTim)\n",
        "viewsTime"
      ]
    },
    {
      "cell_type": "code",
      "execution_count": null,
      "id": "afbd0914-7031-4bff-a041-c74272d20cdb",
      "metadata": {
        "id": "afbd0914-7031-4bff-a041-c74272d20cdb"
      },
      "outputs": [],
      "source": []
    },
    {
      "cell_type": "code",
      "execution_count": null,
      "id": "86dba992-5383-4ba2-b80b-24ce81c5d4d1",
      "metadata": {
        "id": "86dba992-5383-4ba2-b80b-24ce81c5d4d1"
      },
      "outputs": [],
      "source": []
    }
  ],
  "metadata": {
    "kernelspec": {
      "display_name": "Python 3 (ipykernel)",
      "language": "python",
      "name": "python3"
    },
    "language_info": {
      "codemirror_mode": {
        "name": "ipython",
        "version": 3
      },
      "file_extension": ".py",
      "mimetype": "text/x-python",
      "name": "python",
      "nbconvert_exporter": "python",
      "pygments_lexer": "ipython3",
      "version": "3.9.13"
    },
    "colab": {
      "provenance": [],
      "include_colab_link": true
    }
  },
  "nbformat": 4,
  "nbformat_minor": 5
}