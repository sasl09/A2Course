{
  "cells": [
    {
      "cell_type": "markdown",
      "metadata": {
        "id": "view-in-github",
        "colab_type": "text"
      },
      "source": [
        "<a href=\"https://colab.research.google.com/github/sasl09/A2Course/blob/main/FilterMapLambdaReduceII.ipynb\" target=\"_parent\"><img src=\"https://colab.research.google.com/assets/colab-badge.svg\" alt=\"Open In Colab\"/></a>"
      ]
    },
    {
      "cell_type": "markdown",
      "id": "033270bc-48a1-4481-bc80-9ab66e7d505e",
      "metadata": {
        "id": "033270bc-48a1-4481-bc80-9ab66e7d505e"
      },
      "source": [
        "### A2 COURSE"
      ]
    },
    {
      "cell_type": "code",
      "execution_count": null,
      "id": "6b499c76-139f-48e0-b44b-379d69b81daf",
      "metadata": {
        "id": "6b499c76-139f-48e0-b44b-379d69b81daf"
      },
      "outputs": [],
      "source": [
        "#Make some random list\n",
        "someList = [-3, 5, 8, 4, 1, -6, 7, 10]"
      ]
    },
    {
      "cell_type": "markdown",
      "id": "a5f94a63-6442-4314-8039-75ad4758cd2e",
      "metadata": {
        "id": "a5f94a63-6442-4314-8039-75ad4758cd2e"
      },
      "source": [
        "### FILTER"
      ]
    },
    {
      "cell_type": "code",
      "execution_count": null,
      "id": "bb70e326-4b8b-4fc3-a936-8aa8dba11641",
      "metadata": {
        "id": "bb70e326-4b8b-4fc3-a936-8aa8dba11641"
      },
      "outputs": [],
      "source": [
        "#First, create a filtering function to apply to our filter\n",
        "def getEvenNumber(i):\n",
        "    return i % 2 == 0 #Return only even numbers"
      ]
    },
    {
      "cell_type": "code",
      "execution_count": null,
      "id": "58bc6277-17ab-451e-9a6b-f92294838d48",
      "metadata": {
        "id": "58bc6277-17ab-451e-9a6b-f92294838d48",
        "outputId": "343c1428-248f-43fb-d919-15b0b4b8960a"
      },
      "outputs": [
        {
          "data": {
            "text/plain": [
              "[8, 4, -6, 10]"
            ]
          },
          "execution_count": 11,
          "metadata": {},
          "output_type": "execute_result"
        }
      ],
      "source": [
        "#Then create a list with the result of applying our filtering function to a list\n",
        "list(filter(getEvenNumber, someList))"
      ]
    },
    {
      "cell_type": "code",
      "execution_count": null,
      "id": "4f862d89-f028-492b-9644-dffb66356953",
      "metadata": {
        "id": "4f862d89-f028-492b-9644-dffb66356953",
        "outputId": "bf8ad2c2-7699-4af9-92a4-c512a20ede6d"
      },
      "outputs": [
        {
          "data": {
            "text/plain": [
              "[8, 4, -6, 10]"
            ]
          },
          "execution_count": 13,
          "metadata": {},
          "output_type": "execute_result"
        }
      ],
      "source": [
        "#You can always use a comprehension list instead\n",
        "[i for i in someList if getEvenNumber(i)] #Use it like this if you just wanna show result and don't need it stored"
      ]
    },
    {
      "cell_type": "code",
      "source": [
        "#FIlter out numbers that aren't divisible by either 2 and 3\n",
        "someList = [2, 3, 6, 9, 27, 60, 90, 120, 55, 46]\n",
        "\n",
        "divBy_2_3 = list(filter(lambda x: x % 2 == 0 and x % 3 == 0, someList))\n",
        "divBy_2_3"
      ],
      "metadata": {
        "id": "2_eyZttxuc_C"
      },
      "id": "2_eyZttxuc_C",
      "execution_count": null,
      "outputs": []
    },
    {
      "cell_type": "markdown",
      "id": "17b5a458-814a-491f-bbca-ca05497890b6",
      "metadata": {
        "id": "17b5a458-814a-491f-bbca-ca05497890b6"
      },
      "source": [
        "### LAMBDA"
      ]
    },
    {
      "cell_type": "code",
      "execution_count": null,
      "id": "38bcc075-3f4e-414c-b3f8-f65735950145",
      "metadata": {
        "id": "38bcc075-3f4e-414c-b3f8-f65735950145",
        "outputId": "53c58fb8-9c67-48f4-f6d8-3f25c43e1a85"
      },
      "outputs": [
        {
          "data": {
            "text/plain": [
              "[8, 4, -6, 10]"
            ]
          },
          "execution_count": 15,
          "metadata": {},
          "output_type": "execute_result"
        }
      ],
      "source": [
        "#Use lambda to define a function on same line of code, instead of having to define a func previously\n",
        "list(filter(lambda i: i%2==0, someList)) #Return i if reminder of i divided by 2 equals 0"
      ]
    },
    {
      "cell_type": "code",
      "source": [
        "#Sort list of tuples by number order (index 1 of each tuple)\n",
        "listTuples = [('Sachin Tendulkar', 34357), ('Ricky Ponting', 27483), ('Jack Kallis', 25534), ('Virat Kohli', 24936)]\n",
        "print(\"Original list of tuples:\")\n",
        "print(listTuples)\n",
        "listTuples.sort(key = lambda x: x[1]) #Apply sort to index 1, which is the one with the numbers\n",
        "print(\"\\nSorted List of Tuples:\")\n",
        "print(listTuples)"
      ],
      "metadata": {
        "id": "LlmbnaH-uFWr"
      },
      "id": "LlmbnaH-uFWr",
      "execution_count": null,
      "outputs": []
    },
    {
      "cell_type": "code",
      "source": [],
      "metadata": {
        "id": "JJe00zAYuGmz"
      },
      "id": "JJe00zAYuGmz",
      "execution_count": null,
      "outputs": []
    },
    {
      "cell_type": "markdown",
      "id": "79b64132-1981-4120-92ab-da9160b2981b",
      "metadata": {
        "id": "79b64132-1981-4120-92ab-da9160b2981b"
      },
      "source": [
        "### MAP"
      ]
    },
    {
      "cell_type": "code",
      "execution_count": null,
      "id": "9227f5ec-f48a-4dc2-b782-ff5017550a8e",
      "metadata": {
        "id": "9227f5ec-f48a-4dc2-b782-ff5017550a8e",
        "outputId": "859dd335-9e8d-460b-930e-d9d72d283aa1"
      },
      "outputs": [
        {
          "data": {
            "text/plain": [
              "[-27, 125, 512, 64, 1, -216, 343, 1000]"
            ]
          },
          "execution_count": 17,
          "metadata": {},
          "output_type": "execute_result"
        }
      ],
      "source": [
        "#Unlike FILTER (which only filters data we already have), MAP executes operations on our data by using LAMBDA\n",
        "list(map(lambda i: i ** 3, someList))"
      ]
    },
    {
      "cell_type": "code",
      "execution_count": null,
      "id": "8d72b20d-2509-4dff-a6ec-cf989053c01f",
      "metadata": {
        "id": "8d72b20d-2509-4dff-a6ec-cf989053c01f",
        "outputId": "f96ed570-d9ae-4fd5-889c-6be5a462c787"
      },
      "outputs": [
        {
          "data": {
            "text/plain": [
              "[-3, 5, 8, 4, 1, -6, 7, 10]"
            ]
          },
          "execution_count": 18,
          "metadata": {},
          "output_type": "execute_result"
        }
      ],
      "source": [
        "list(filter(lambda i: i ** 3, someList)) #Same code as above, but with filter, will return values in our data."
      ]
    },
    {
      "cell_type": "code",
      "execution_count": null,
      "id": "0a39bae7-6752-4b47-9458-cab1d2865661",
      "metadata": {
        "id": "0a39bae7-6752-4b47-9458-cab1d2865661",
        "outputId": "01840c88-6411-47fd-e50f-2a272375dae6"
      },
      "outputs": [
        {
          "data": {
            "text/plain": [
              "[-27, 125, 512, 64, 1, -216, 343, 1000]"
            ]
          },
          "execution_count": 19,
          "metadata": {},
          "output_type": "execute_result"
        }
      ],
      "source": [
        "#Again. You can always use a comprehension list\n",
        "[i**3 for i in someList]"
      ]
    },
    {
      "cell_type": "code",
      "source": [
        "#Convert a list into a tuple and each of its items in strings\n",
        "someList = [1, 2, 3, 4, 5, 6, 7, 8, 9, 10]\n",
        "tup = tuple(map(lambda x: str(x), someList))\n",
        "tup"
      ],
      "metadata": {
        "id": "UPd6SlTRuTh7"
      },
      "id": "UPd6SlTRuTh7",
      "execution_count": null,
      "outputs": []
    },
    {
      "cell_type": "markdown",
      "id": "eb558278-de20-47f0-af7e-f5d98087a3b5",
      "metadata": {
        "id": "eb558278-de20-47f0-af7e-f5d98087a3b5"
      },
      "source": [
        "## Challenge\n"
      ]
    },
    {
      "cell_type": "code",
      "execution_count": null,
      "id": "54e1d259-d65b-4669-9a05-be71a58cb7fb",
      "metadata": {
        "id": "54e1d259-d65b-4669-9a05-be71a58cb7fb",
        "outputId": "333a5ea6-40f3-49bc-ffc3-d3fea2a4b0f4"
      },
      "outputs": [
        {
          "data": {
            "text/plain": [
              "[1, 2, 3, 4, 5, 6, 7, 8, 9, 10, 11, 12, 13, 14, 15]"
            ]
          },
          "execution_count": 25,
          "metadata": {},
          "output_type": "execute_result"
        }
      ],
      "source": [
        "# Make a list with range 15\n",
        "someList2 = list(range(1,16))\n",
        "someList2"
      ]
    },
    {
      "cell_type": "code",
      "execution_count": null,
      "id": "9b2223df-5ec7-4397-a862-a2c7589d0af2",
      "metadata": {
        "id": "9b2223df-5ec7-4397-a862-a2c7589d0af2",
        "outputId": "e3b3686d-ac8c-4d20-c382-4c2df40c7fff"
      },
      "outputs": [
        {
          "data": {
            "text/plain": [
              "[1, 3, 5, 7, 9, 11, 13, 15]"
            ]
          },
          "execution_count": 26,
          "metadata": {},
          "output_type": "execute_result"
        }
      ],
      "source": [
        "# Filter out even numbers\n",
        "list(filter(lambda i: i%2!=0, someList2))"
      ]
    },
    {
      "cell_type": "code",
      "execution_count": null,
      "id": "639ccab5-2c26-496a-aa33-b767239fba66",
      "metadata": {
        "id": "639ccab5-2c26-496a-aa33-b767239fba66",
        "outputId": "8f8f1979-448f-4f1e-85bd-69b8c56dc223"
      },
      "outputs": [
        {
          "data": {
            "text/plain": [
              "[1, 4, 9, 16, 25, 36, 49, 64, 81, 100, 121, 144, 169, 196, 225]"
            ]
          },
          "execution_count": 27,
          "metadata": {},
          "output_type": "execute_result"
        }
      ],
      "source": [
        "# Make a new list out of first list with squares of each value\n",
        "list(map(lambda i: i**2, someList2))"
      ]
    },
    {
      "cell_type": "code",
      "execution_count": null,
      "id": "1ce80e90-a752-4f36-a08a-45c6f485a559",
      "metadata": {
        "id": "1ce80e90-a752-4f36-a08a-45c6f485a559",
        "outputId": "d84d55cc-5508-46d9-a6c6-fb113ef85ce7"
      },
      "outputs": [
        {
          "data": {
            "text/plain": [
              "[1, 9, 25, 49, 81, 121, 169, 225]"
            ]
          },
          "execution_count": 28,
          "metadata": {},
          "output_type": "execute_result"
        }
      ],
      "source": [
        "# Filter out even numbers, then get each odd number's square\n",
        "list(map(lambda i: i**2, filter(lambda i: i%2!=0, someList2))) #This will get done the second function first (filter). \n",
        "#map goes second."
      ]
    },
    {
      "cell_type": "code",
      "execution_count": null,
      "id": "5c73c928-2796-4212-ae8b-e079a10378b9",
      "metadata": {
        "id": "5c73c928-2796-4212-ae8b-e079a10378b9"
      },
      "outputs": [],
      "source": []
    },
    {
      "cell_type": "markdown",
      "source": [
        "### REDUCE"
      ],
      "metadata": {
        "id": "d18qd0ojo_U1"
      },
      "id": "d18qd0ojo_U1"
    },
    {
      "cell_type": "markdown",
      "source": [
        "### Reduce applies a function CUMULATIVELY to elements of an iterable, from left to righ"
      ],
      "metadata": {
        "id": "NnhSgHpvH3yo"
      },
      "id": "NnhSgHpvH3yo"
    },
    {
      "cell_type": "code",
      "source": [
        "# importing functools for reduce()\n",
        "import functools\n",
        " \n",
        "# Generate list\n",
        "lis = [i for i in range(1,26)]\n",
        "print(lis)\n",
        " \n",
        "# using reduce to compute sum of list\n",
        "print(\"The sum of the list elements is : \", end=\"\")\n",
        "print(functools.reduce(lambda a, b: a+b, lis))\n",
        "\n",
        "# using reduce to compute product of list\n",
        "print(\"The product of the list elements is : \", end=\"\")\n",
        "print(functools.reduce(lambda a, b: a*b, lis))\n",
        "\n",
        "# using reduce to compute maximum element from list\n",
        "print(\"The maximum element of the list is : \", end=\"\")\n",
        "print(functools.reduce(lambda a, b: a if a > b else b, lis))\n",
        "\n",
        "# using reduce to compute minimum element from list\n",
        "print(\"The maximum element of the list is : \", end=\"\")\n",
        "print(functools.reduce(lambda a, b: a if a < b else b, lis))"
      ],
      "metadata": {
        "colab": {
          "base_uri": "https://localhost:8080/"
        },
        "id": "gMpnMtPapBzt",
        "outputId": "9a87fec7-c2cb-469d-d1aa-99e7b2c25886"
      },
      "id": "gMpnMtPapBzt",
      "execution_count": null,
      "outputs": [
        {
          "output_type": "stream",
          "name": "stdout",
          "text": [
            "[1, 2, 3, 4, 5, 6, 7, 8, 9, 10, 11, 12, 13, 14, 15, 16, 17, 18, 19, 20, 21, 22, 23, 24, 25]\n",
            "The sum of the list elements is : 325\n",
            "The product of the list elements is : 15511210043330985984000000\n",
            "The maximum element of the list is : 25\n",
            "The maximum element of the list is : 1\n"
          ]
        }
      ]
    },
    {
      "cell_type": "code",
      "source": [
        "from functools import reduce\n",
        "\n",
        "numbers = [1, 2, 3, 4, 5]\n",
        "\n",
        "product = reduce(lambda x, y: x*y, numbers)\n",
        "\n",
        "print(product)"
      ],
      "metadata": {
        "colab": {
          "base_uri": "https://localhost:8080/"
        },
        "id": "KxwSQgAbHP22",
        "outputId": "67b6fd23-23c2-487d-ecfd-16889ad0742c"
      },
      "id": "KxwSQgAbHP22",
      "execution_count": null,
      "outputs": [
        {
          "output_type": "stream",
          "name": "stdout",
          "text": [
            "120\n"
          ]
        }
      ]
    },
    {
      "cell_type": "code",
      "source": [],
      "metadata": {
        "id": "54rQ-yxsHo8r"
      },
      "id": "54rQ-yxsHo8r",
      "execution_count": null,
      "outputs": []
    }
  ],
  "metadata": {
    "kernelspec": {
      "display_name": "Python 3 (ipykernel)",
      "language": "python",
      "name": "python3"
    },
    "language_info": {
      "codemirror_mode": {
        "name": "ipython",
        "version": 3
      },
      "file_extension": ".py",
      "mimetype": "text/x-python",
      "name": "python",
      "nbconvert_exporter": "python",
      "pygments_lexer": "ipython3",
      "version": "3.9.13"
    },
    "colab": {
      "provenance": [],
      "include_colab_link": true
    }
  },
  "nbformat": 4,
  "nbformat_minor": 5
}