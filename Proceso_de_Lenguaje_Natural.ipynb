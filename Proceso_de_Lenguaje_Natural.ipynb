{
  "cells": [
    {
      "cell_type": "markdown",
      "metadata": {
        "id": "view-in-github",
        "colab_type": "text"
      },
      "source": [
        "<a href=\"https://colab.research.google.com/github/sasl09/A2Course/blob/main/Proceso_de_Lenguaje_Natural.ipynb\" target=\"_parent\"><img src=\"https://colab.research.google.com/assets/colab-badge.svg\" alt=\"Open In Colab\"/></a>"
      ]
    },
    {
      "cell_type": "markdown",
      "id": "8337f114-60c5-4763-b70a-593ec4e11315",
      "metadata": {
        "id": "8337f114-60c5-4763-b70a-593ec4e11315"
      },
      "source": [
        "# 12.- Procesamiento de Lenguaje Natural"
      ]
    },
    {
      "cell_type": "markdown",
      "id": "a85a16d9-3142-4a20-b505-269b53b7e1bb",
      "metadata": {
        "id": "a85a16d9-3142-4a20-b505-269b53b7e1bb"
      },
      "source": [
        "### 12.0.1.- Instalando TextBlob"
      ]
    },
    {
      "cell_type": "markdown",
      "id": "2c5bfff5-b074-47a4-b71e-43c9a827371c",
      "metadata": {
        "id": "2c5bfff5-b074-47a4-b71e-43c9a827371c"
      },
      "source": [
        "Lo primero será instalar TextBlob desde el prompt de anaconda\n",
        "\n",
        "conda install -c confa-forge textblob"
      ]
    },
    {
      "cell_type": "markdown",
      "id": "4bcfe69e-244b-4aef-8927-8a23d6967a77",
      "metadata": {
        "id": "4bcfe69e-244b-4aef-8927-8a23d6967a77"
      },
      "source": [
        "Una vez ejecutado, corre el siguiente comando\n",
        "\n",
        "ipython -m textblob.download_corpora"
      ]
    },
    {
      "cell_type": "code",
      "source": [
        "!pip install textblob"
      ],
      "metadata": {
        "colab": {
          "base_uri": "https://localhost:8080/"
        },
        "id": "GFA8JWq8CODs",
        "outputId": "d71dc815-8646-4bca-c30d-136bf199847b"
      },
      "id": "GFA8JWq8CODs",
      "execution_count": 2,
      "outputs": [
        {
          "output_type": "stream",
          "name": "stdout",
          "text": [
            "Looking in indexes: https://pypi.org/simple, https://us-python.pkg.dev/colab-wheels/public/simple/\n",
            "Requirement already satisfied: textblob in /usr/local/lib/python3.9/dist-packages (0.15.3)\n",
            "Requirement already satisfied: nltk>=3.1 in /usr/local/lib/python3.9/dist-packages (from textblob) (3.7)\n",
            "Requirement already satisfied: regex>=2021.8.3 in /usr/local/lib/python3.9/dist-packages (from nltk>=3.1->textblob) (2022.6.2)\n",
            "Requirement already satisfied: joblib in /usr/local/lib/python3.9/dist-packages (from nltk>=3.1->textblob) (1.1.1)\n",
            "Requirement already satisfied: click in /usr/local/lib/python3.9/dist-packages (from nltk>=3.1->textblob) (8.1.3)\n",
            "Requirement already satisfied: tqdm in /usr/local/lib/python3.9/dist-packages (from nltk>=3.1->textblob) (4.65.0)\n"
          ]
        }
      ]
    },
    {
      "cell_type": "code",
      "source": [
        "#Corpora will add different tools to work with language\n",
        "!ipython -m textblob.download_corpora\n",
        "import nltk\n",
        "nltk.download('omw-1.4')"
      ],
      "metadata": {
        "colab": {
          "base_uri": "https://localhost:8080/"
        },
        "id": "SDg4c3EoCfcr",
        "outputId": "7964b05d-d0c2-44d3-b756-d41a51ca30f9"
      },
      "id": "SDg4c3EoCfcr",
      "execution_count": 59,
      "outputs": [
        {
          "output_type": "stream",
          "name": "stderr",
          "text": [
            "[nltk_data] Downloading package omw-1.4 to /root/nltk_data...\n",
            "[nltk_data]   Package omw-1.4 is already up-to-date!\n"
          ]
        },
        {
          "output_type": "execute_result",
          "data": {
            "text/plain": [
              "True"
            ]
          },
          "metadata": {},
          "execution_count": 59
        }
      ]
    },
    {
      "cell_type": "markdown",
      "id": "8c85e0dc-11c9-495d-b55e-4a40c2eec460",
      "metadata": {
        "id": "8c85e0dc-11c9-495d-b55e-4a40c2eec460"
      },
      "source": [
        "## 12.2.- TextBlob"
      ]
    },
    {
      "cell_type": "markdown",
      "id": "b50cce96-bd24-46d9-9c6d-ab23a19088cb",
      "metadata": {
        "id": "b50cce96-bd24-46d9-9c6d-ab23a19088cb"
      },
      "source": [
        "### 12.2.2.- Crear un TextBlob"
      ]
    },
    {
      "cell_type": "markdown",
      "id": "4462e2c3-4d35-4628-a8e8-85e5b2a7af4e",
      "metadata": {
        "id": "4462e2c3-4d35-4628-a8e8-85e5b2a7af4e"
      },
      "source": [
        "Vamos a crear un textblob con el texto 'Y cuando despertó. Todo a su alrededor era luminoso'"
      ]
    },
    {
      "cell_type": "code",
      "execution_count": 60,
      "id": "d4ffc636-d99a-4565-95ba-0a4236ef4084",
      "metadata": {
        "id": "d4ffc636-d99a-4565-95ba-0a4236ef4084"
      },
      "outputs": [],
      "source": [
        "from textblob import TextBlob "
      ]
    },
    {
      "cell_type": "code",
      "execution_count": 61,
      "id": "59f8d266-efde-4346-9d00-7bbc572cc1d6",
      "metadata": {
        "id": "59f8d266-efde-4346-9d00-7bbc572cc1d6"
      },
      "outputs": [],
      "source": [
        "texto = \"Y cuando despertó. Todo a su alrededor era luminoso\""
      ]
    },
    {
      "cell_type": "code",
      "execution_count": 62,
      "id": "392a28b9-1c04-4796-84a7-3eb5f1ed7cfd",
      "metadata": {
        "id": "392a28b9-1c04-4796-84a7-3eb5f1ed7cfd"
      },
      "outputs": [],
      "source": [
        "blob = TextBlob(texto)"
      ]
    },
    {
      "cell_type": "code",
      "execution_count": 63,
      "id": "53531a8b-16a3-455b-836b-da404faf1359",
      "metadata": {
        "colab": {
          "base_uri": "https://localhost:8080/"
        },
        "id": "53531a8b-16a3-455b-836b-da404faf1359",
        "outputId": "36b03df6-9db2-4bac-cb46-0dd348c51ab5"
      },
      "outputs": [
        {
          "output_type": "execute_result",
          "data": {
            "text/plain": [
              "TextBlob(\"Y cuando despertó. Todo a su alrededor era luminoso\")"
            ]
          },
          "metadata": {},
          "execution_count": 63
        }
      ],
      "source": [
        "blob"
      ]
    },
    {
      "cell_type": "markdown",
      "id": "1a198156-2de3-43b2-a09e-8f6a89c6d0d5",
      "metadata": {
        "id": "1a198156-2de3-43b2-a09e-8f6a89c6d0d5"
      },
      "source": [
        "### 12.2.3.- Tokenizar"
      ]
    },
    {
      "cell_type": "markdown",
      "id": "c47c93b8-5742-4028-9af6-7e5d67e36021",
      "metadata": {
        "id": "c47c93b8-5742-4028-9af6-7e5d67e36021"
      },
      "source": [
        "Ahora vamos a obtener una lista de oraciones"
      ]
    },
    {
      "cell_type": "code",
      "execution_count": 64,
      "id": "5f1a57ec-0a5d-465d-aacd-1e36f4c54c89",
      "metadata": {
        "colab": {
          "base_uri": "https://localhost:8080/"
        },
        "id": "5f1a57ec-0a5d-465d-aacd-1e36f4c54c89",
        "outputId": "1e15d29a-256b-499a-de78-2cc9b3c99466"
      },
      "outputs": [
        {
          "output_type": "execute_result",
          "data": {
            "text/plain": [
              "[Sentence(\"Y cuando despertó.\"), Sentence(\"Todo a su alrededor era luminoso\")]"
            ]
          },
          "metadata": {},
          "execution_count": 64
        }
      ],
      "source": [
        "blob.sentences"
      ]
    },
    {
      "cell_type": "markdown",
      "id": "1546196d-9a34-4196-bf51-a2439d80b569",
      "metadata": {
        "id": "1546196d-9a34-4196-bf51-a2439d80b569"
      },
      "source": [
        "Y una lista de palabras"
      ]
    },
    {
      "cell_type": "code",
      "execution_count": 65,
      "id": "af5a3fc1-91e5-4bf9-bca3-992dd90191f5",
      "metadata": {
        "colab": {
          "base_uri": "https://localhost:8080/"
        },
        "id": "af5a3fc1-91e5-4bf9-bca3-992dd90191f5",
        "outputId": "1abea572-992d-44ce-d776-af8f2773878a"
      },
      "outputs": [
        {
          "output_type": "execute_result",
          "data": {
            "text/plain": [
              "WordList(['Y', 'cuando', 'despertó', 'Todo', 'a', 'su', 'alrededor', 'era', 'luminoso'])"
            ]
          },
          "metadata": {},
          "execution_count": 65
        }
      ],
      "source": [
        "blob.words"
      ]
    },
    {
      "cell_type": "code",
      "execution_count": 65,
      "id": "6b0b72db-bd0a-4de4-a770-718b9314eab3",
      "metadata": {
        "id": "6b0b72db-bd0a-4de4-a770-718b9314eab3"
      },
      "outputs": [],
      "source": []
    },
    {
      "cell_type": "markdown",
      "id": "bded994a-b85c-4ad4-8674-bded8ff559f8",
      "metadata": {
        "id": "bded994a-b85c-4ad4-8674-bded8ff559f8"
      },
      "source": [
        "Repetimos para 'I have good discipline to study. In the future I will be a great engineer'"
      ]
    },
    {
      "cell_type": "code",
      "execution_count": 66,
      "id": "50e4942a-6b36-45d1-bd11-6ff4108cfe4e",
      "metadata": {
        "id": "50e4942a-6b36-45d1-bd11-6ff4108cfe4e"
      },
      "outputs": [],
      "source": [
        "texto = \"I have good discipline to study. In the future I will be a great engineer\""
      ]
    },
    {
      "cell_type": "code",
      "execution_count": 67,
      "id": "c72bfb91-4026-4175-aeaa-ecc313df93b3",
      "metadata": {
        "id": "c72bfb91-4026-4175-aeaa-ecc313df93b3"
      },
      "outputs": [],
      "source": [
        "blob = TextBlob(texto)"
      ]
    },
    {
      "cell_type": "code",
      "execution_count": 68,
      "id": "ad74406d-cc58-4e75-8a0f-479388029c01",
      "metadata": {
        "colab": {
          "base_uri": "https://localhost:8080/"
        },
        "id": "ad74406d-cc58-4e75-8a0f-479388029c01",
        "outputId": "f57641cc-4981-4a67-f6d6-dd0594db3f3a"
      },
      "outputs": [
        {
          "output_type": "execute_result",
          "data": {
            "text/plain": [
              "[Sentence(\"I have good discipline to study.\"),\n",
              " Sentence(\"In the future I will be a great engineer\")]"
            ]
          },
          "metadata": {},
          "execution_count": 68
        }
      ],
      "source": [
        "blob.sentences"
      ]
    },
    {
      "cell_type": "code",
      "execution_count": 69,
      "id": "027a5b94-dbe1-48cb-bc5c-0dcfb6008009",
      "metadata": {
        "colab": {
          "base_uri": "https://localhost:8080/"
        },
        "id": "027a5b94-dbe1-48cb-bc5c-0dcfb6008009",
        "outputId": "2eda6eb3-0c4d-4cd2-bbd6-c5bb81101f5d"
      },
      "outputs": [
        {
          "output_type": "execute_result",
          "data": {
            "text/plain": [
              "WordList(['I', 'have', 'good', 'discipline', 'to', 'study', 'In', 'the', 'future', 'I', 'will', 'be', 'a', 'great', 'engineer'])"
            ]
          },
          "metadata": {},
          "execution_count": 69
        }
      ],
      "source": [
        "blob.words"
      ]
    },
    {
      "cell_type": "markdown",
      "id": "ca188e35-2893-41f3-9d8d-9828afc90bd7",
      "metadata": {
        "id": "ca188e35-2893-41f3-9d8d-9828afc90bd7"
      },
      "source": [
        "### 12.2.4.- Parte del habla"
      ]
    },
    {
      "cell_type": "markdown",
      "id": "83c8ff74-4e75-4918-99bd-6df285ea5636",
      "metadata": {
        "id": "83c8ff74-4e75-4918-99bd-6df285ea5636"
      },
      "source": [
        "Ahora vamos a etiquetar cada parte de la oración en su categoría de sustantivo, pronotmbre, verbo, etc"
      ]
    },
    {
      "cell_type": "code",
      "execution_count": 70,
      "id": "38a2d638-3bd5-4706-9467-fd17cf263582",
      "metadata": {
        "colab": {
          "base_uri": "https://localhost:8080/"
        },
        "id": "38a2d638-3bd5-4706-9467-fd17cf263582",
        "outputId": "de7f840d-87fa-4cae-bf62-39543865ca0b"
      },
      "outputs": [
        {
          "output_type": "execute_result",
          "data": {
            "text/plain": [
              "[('I', 'PRP'),\n",
              " ('have', 'VBP'),\n",
              " ('good', 'JJ'),\n",
              " ('discipline', 'NN'),\n",
              " ('to', 'TO'),\n",
              " ('study', 'VB'),\n",
              " ('In', 'IN'),\n",
              " ('the', 'DT'),\n",
              " ('future', 'NN'),\n",
              " ('I', 'PRP'),\n",
              " ('will', 'MD'),\n",
              " ('be', 'VB'),\n",
              " ('a', 'DT'),\n",
              " ('great', 'JJ'),\n",
              " ('engineer', 'NN')]"
            ]
          },
          "metadata": {},
          "execution_count": 70
        }
      ],
      "source": [
        "blob.tags #tags gets you whether words are nouns, verbs, etc..."
      ]
    },
    {
      "cell_type": "markdown",
      "id": "c7a3a9f4-4ebe-4bb9-b6f5-4ed48fb93de1",
      "metadata": {
        "id": "c7a3a9f4-4ebe-4bb9-b6f5-4ed48fb93de1"
      },
      "source": [
        "### 12.2.5.- Frases de sustantivos"
      ]
    },
    {
      "cell_type": "markdown",
      "id": "12344c57-80c8-42dd-a61c-3f99f016cb09",
      "metadata": {
        "id": "12344c57-80c8-42dd-a61c-3f99f016cb09"
      },
      "source": [
        "Le podemos pedir noun phrases a nuestro textblob"
      ]
    },
    {
      "cell_type": "code",
      "execution_count": 71,
      "id": "4ac21387-1a05-4bc3-9892-cb1ea05ab9e2",
      "metadata": {
        "colab": {
          "base_uri": "https://localhost:8080/"
        },
        "id": "4ac21387-1a05-4bc3-9892-cb1ea05ab9e2",
        "outputId": "e3be9032-ce4c-4884-fc66-546816b6c65d"
      },
      "outputs": [
        {
          "output_type": "execute_result",
          "data": {
            "text/plain": [
              "WordList(['good discipline', 'great engineer'])"
            ]
          },
          "metadata": {},
          "execution_count": 71
        }
      ],
      "source": [
        "#A noun phrase is either a pronoun or any group of words that can be replaced by a pronoun. For example, 'they', 'cars', and 'the cars' are noun phrases.\n",
        "blob.noun_phrases"
      ]
    },
    {
      "cell_type": "markdown",
      "id": "d36d1e1b-b203-47ff-a983-b8ae794d011f",
      "metadata": {
        "id": "d36d1e1b-b203-47ff-a983-b8ae794d011f"
      },
      "source": [
        "### 12.2.6.- Analisis de sentimientos"
      ]
    },
    {
      "cell_type": "markdown",
      "id": "1c3075c6-e3e6-4c7f-a248-ccdb6bf0afd4",
      "metadata": {
        "id": "1c3075c6-e3e6-4c7f-a248-ccdb6bf0afd4"
      },
      "source": [
        "También podemos analizar el sentimento de una oración. Vamos dandole con l oración que traiamos"
      ]
    },
    {
      "cell_type": "markdown",
      "id": "f29c3a15-53ae-4b0f-ad33-3dbc0ba9d230",
      "metadata": {
        "id": "f29c3a15-53ae-4b0f-ad33-3dbc0ba9d230"
      },
      "source": [
        "Ahora otro ejemplo = 'I am a bad student. I will not be able to finish my studies'"
      ]
    },
    {
      "cell_type": "code",
      "execution_count": 72,
      "id": "51f5babf-3f70-4f49-9839-238c1cd21623",
      "metadata": {
        "id": "51f5babf-3f70-4f49-9839-238c1cd21623"
      },
      "outputs": [],
      "source": [
        "texto = 'I am a bad student. I will not be able to finish my studies'"
      ]
    },
    {
      "cell_type": "code",
      "execution_count": 73,
      "id": "065c0dcc-0f55-4a8e-99d0-8609c48f8b1e",
      "metadata": {
        "id": "065c0dcc-0f55-4a8e-99d0-8609c48f8b1e"
      },
      "outputs": [],
      "source": [
        "blob = TextBlob(texto)"
      ]
    },
    {
      "cell_type": "code",
      "execution_count": 74,
      "id": "232aefab-9ea4-4d0c-ad5a-1dad08e2e8ff",
      "metadata": {
        "colab": {
          "base_uri": "https://localhost:8080/"
        },
        "id": "232aefab-9ea4-4d0c-ad5a-1dad08e2e8ff",
        "outputId": "bbe05827-4661-431b-d2d3-983518cd9f38"
      },
      "outputs": [
        {
          "output_type": "execute_result",
          "data": {
            "text/plain": [
              "Sentiment(polarity=-0.09999999999999992, subjectivity=0.6458333333333333)"
            ]
          },
          "metadata": {},
          "execution_count": 74
        }
      ],
      "source": [
        "blob.sentiment"
      ]
    },
    {
      "cell_type": "markdown",
      "id": "7fc7dd12-c2b0-4f97-8dda-620d7e9f021f",
      "metadata": {
        "id": "7fc7dd12-c2b0-4f97-8dda-620d7e9f021f"
      },
      "source": [
        "Y lo repetimos para el mismo ejemplo pero frase por frase"
      ]
    },
    {
      "cell_type": "code",
      "execution_count": 75,
      "id": "e07bcfe4-31bb-4166-95f0-52fad911f89b",
      "metadata": {
        "colab": {
          "base_uri": "https://localhost:8080/"
        },
        "id": "e07bcfe4-31bb-4166-95f0-52fad911f89b",
        "outputId": "7772abe4-6eb9-4413-e88f-b329646b415b"
      },
      "outputs": [
        {
          "output_type": "stream",
          "name": "stdout",
          "text": [
            "Sentiment(polarity=-0.6999999999999998, subjectivity=0.6666666666666666)\n",
            "Sentiment(polarity=0.5, subjectivity=0.625)\n"
          ]
        }
      ],
      "source": [
        "for sentence in blob.sentences:\n",
        "  print(sentence.sentiment)"
      ]
    },
    {
      "cell_type": "markdown",
      "id": "3f42f2d2-cddc-4fe7-af05-981d8f15196b",
      "metadata": {
        "id": "3f42f2d2-cddc-4fe7-af05-981d8f15196b"
      },
      "source": [
        "Se puede hacer lo mismo mediante NaiveBayes (en vez de el default pattern)"
      ]
    },
    {
      "cell_type": "code",
      "execution_count": 76,
      "id": "7a598b15-1cc2-4d68-920b-4264a5a4ee6b",
      "metadata": {
        "id": "7a598b15-1cc2-4d68-920b-4264a5a4ee6b"
      },
      "outputs": [],
      "source": [
        "from textblob.sentiments import NaiveBayesAnalyzer"
      ]
    },
    {
      "cell_type": "code",
      "execution_count": 77,
      "id": "bbaf535a-9452-481f-82b4-85d78137e75c",
      "metadata": {
        "id": "bbaf535a-9452-481f-82b4-85d78137e75c"
      },
      "outputs": [],
      "source": [
        "blob = TextBlob(texto, analyzer = NaiveBayesAnalyzer())"
      ]
    },
    {
      "cell_type": "code",
      "execution_count": 78,
      "id": "03283945-4a6a-4568-b87b-1fdc17dc6631",
      "metadata": {
        "colab": {
          "base_uri": "https://localhost:8080/"
        },
        "id": "03283945-4a6a-4568-b87b-1fdc17dc6631",
        "outputId": "3fa0c3cb-5f85-4f48-f2fa-0b72b3f8612e"
      },
      "outputs": [
        {
          "output_type": "execute_result",
          "data": {
            "text/plain": [
              "TextBlob(\"I am a bad student. I will not be able to finish my studies\")"
            ]
          },
          "metadata": {},
          "execution_count": 78
        }
      ],
      "source": [
        "blob"
      ]
    },
    {
      "cell_type": "code",
      "execution_count": 79,
      "id": "075589c4-a9c4-4525-909d-3afc28570115",
      "metadata": {
        "colab": {
          "base_uri": "https://localhost:8080/"
        },
        "id": "075589c4-a9c4-4525-909d-3afc28570115",
        "outputId": "40ef41c4-60cc-4c03-e4f7-84baf88b406d"
      },
      "outputs": [
        {
          "output_type": "execute_result",
          "data": {
            "text/plain": [
              "Sentiment(classification='pos', p_pos=0.9111144935259595, p_neg=0.08888550647403913)"
            ]
          },
          "metadata": {},
          "execution_count": 79
        }
      ],
      "source": [
        "blob.sentiment"
      ]
    },
    {
      "cell_type": "code",
      "execution_count": 79,
      "id": "316cc161-3c38-4843-9dd5-9ecd52300269",
      "metadata": {
        "id": "316cc161-3c38-4843-9dd5-9ecd52300269"
      },
      "outputs": [],
      "source": []
    },
    {
      "cell_type": "markdown",
      "id": "b40f753a-41cb-4b95-90d1-bae927b4ece5",
      "metadata": {
        "id": "b40f753a-41cb-4b95-90d1-bae927b4ece5"
      },
      "source": [
        "## 12.3.- Detección de lenguaje y traducción"
      ]
    },
    {
      "cell_type": "markdown",
      "id": "c321b6c2-824b-43f5-a17e-becefcc40aa6",
      "metadata": {
        "id": "c321b6c2-824b-43f5-a17e-becefcc40aa6"
      },
      "source": [
        "Determina el lenguaje usando langdetect"
      ]
    },
    {
      "cell_type": "code",
      "execution_count": 80,
      "id": "80f4a8a0-0440-4e96-baaf-5050d3b41652",
      "metadata": {
        "colab": {
          "base_uri": "https://localhost:8080/"
        },
        "id": "80f4a8a0-0440-4e96-baaf-5050d3b41652",
        "outputId": "150a171d-214b-4c9c-b3a8-3ef266477502"
      },
      "outputs": [
        {
          "output_type": "stream",
          "name": "stdout",
          "text": [
            "Looking in indexes: https://pypi.org/simple, https://us-python.pkg.dev/colab-wheels/public/simple/\n",
            "Requirement already satisfied: langdetect in /usr/local/lib/python3.9/dist-packages (1.0.9)\n",
            "Requirement already satisfied: six in /usr/local/lib/python3.9/dist-packages (from langdetect) (1.15.0)\n"
          ]
        }
      ],
      "source": [
        "#textblob.detect_language() is no longer working\n",
        "!pip install langdetect\n",
        "from langdetect import detect"
      ]
    },
    {
      "cell_type": "code",
      "execution_count": 81,
      "id": "87a2513b-379b-49ee-a9c5-fdc6283b718c",
      "metadata": {
        "id": "87a2513b-379b-49ee-a9c5-fdc6283b718c"
      },
      "outputs": [],
      "source": [
        "text = \"hello sons of bitches\""
      ]
    },
    {
      "cell_type": "code",
      "source": [
        "text = \"hola hijos de perra\""
      ],
      "metadata": {
        "id": "oZc6BXvZRTim"
      },
      "id": "oZc6BXvZRTim",
      "execution_count": 82,
      "outputs": []
    },
    {
      "cell_type": "code",
      "execution_count": 83,
      "id": "121204c3-5db5-4d6e-aa48-0e1ae366b260",
      "metadata": {
        "colab": {
          "base_uri": "https://localhost:8080/",
          "height": 35
        },
        "id": "121204c3-5db5-4d6e-aa48-0e1ae366b260",
        "outputId": "81043f2b-bad9-4165-f64a-40bd84f5c863"
      },
      "outputs": [
        {
          "output_type": "execute_result",
          "data": {
            "text/plain": [
              "'es'"
            ],
            "application/vnd.google.colaboratory.intrinsic+json": {
              "type": "string"
            }
          },
          "metadata": {},
          "execution_count": 83
        }
      ],
      "source": [
        "detect(text)"
      ]
    },
    {
      "cell_type": "code",
      "execution_count": 84,
      "id": "cde966ec-411d-4a8d-8b8c-5916b1bbfa15",
      "metadata": {
        "colab": {
          "base_uri": "https://localhost:8080/"
        },
        "id": "cde966ec-411d-4a8d-8b8c-5916b1bbfa15",
        "outputId": "4938e45f-2edc-4528-fc5f-471e7977d9b1"
      },
      "outputs": [
        {
          "output_type": "execute_result",
          "data": {
            "text/plain": [
              "[es:0.999993602738058]"
            ]
          },
          "metadata": {},
          "execution_count": 84
        }
      ],
      "source": [
        "from langdetect.detector_factory import detect_langs\n",
        "detect_langs(text)"
      ]
    },
    {
      "cell_type": "markdown",
      "id": "aa6cb571-6e04-4721-8c10-f71883ea2c6e",
      "metadata": {
        "id": "aa6cb571-6e04-4721-8c10-f71883ea2c6e"
      },
      "source": [
        "Ahora usa goslate para traducir \"I have good discipline to study. In the future I will be a great engineer'"
      ]
    },
    {
      "cell_type": "code",
      "execution_count": 88,
      "id": "4822abd5-f486-4f42-a92f-945679cc2b0d",
      "metadata": {
        "colab": {
          "base_uri": "https://localhost:8080/"
        },
        "id": "4822abd5-f486-4f42-a92f-945679cc2b0d",
        "outputId": "22187dd3-254f-4e63-c91e-c280b8c77016"
      },
      "outputs": [
        {
          "output_type": "stream",
          "name": "stdout",
          "text": [
            "Looking in indexes: https://pypi.org/simple, https://us-python.pkg.dev/colab-wheels/public/simple/\n",
            "Requirement already satisfied: goslate in /usr/local/lib/python3.9/dist-packages (1.5.4)\n",
            "Requirement already satisfied: futures in /usr/local/lib/python3.9/dist-packages (from goslate) (3.0.5)\n"
          ]
        }
      ],
      "source": [
        "!pip install goslate"
      ]
    },
    {
      "cell_type": "code",
      "source": [
        "import goslate"
      ],
      "metadata": {
        "id": "5eNeAlNmSU3s"
      },
      "id": "5eNeAlNmSU3s",
      "execution_count": 89,
      "outputs": []
    },
    {
      "cell_type": "code",
      "source": [
        "texto = \"Hello World\""
      ],
      "metadata": {
        "id": "iYYQ5qvcSX8U"
      },
      "id": "iYYQ5qvcSX8U",
      "execution_count": 90,
      "outputs": []
    },
    {
      "cell_type": "code",
      "source": [
        "gs = goslate.Goslate()"
      ],
      "metadata": {
        "id": "EHz04D8LSdv9"
      },
      "id": "EHz04D8LSdv9",
      "execution_count": 91,
      "outputs": []
    },
    {
      "cell_type": "code",
      "source": [
        "translatedText = gs.translate(texto, \"es\")\n",
        "translatedText"
      ],
      "metadata": {
        "colab": {
          "base_uri": "https://localhost:8080/",
          "height": 35
        },
        "id": "rFLlAdoSSjq9",
        "outputId": "0c42c365-2b7e-497b-de85-4b9736cc4bd6"
      },
      "id": "rFLlAdoSSjq9",
      "execution_count": 92,
      "outputs": [
        {
          "output_type": "execute_result",
          "data": {
            "text/plain": [
              "'Hola Mundo'"
            ],
            "application/vnd.google.colaboratory.intrinsic+json": {
              "type": "string"
            }
          },
          "metadata": {},
          "execution_count": 92
        }
      ]
    },
    {
      "cell_type": "markdown",
      "id": "c0c595d9-b2ad-4d21-ad3a-e20436af338b",
      "metadata": {
        "id": "c0c595d9-b2ad-4d21-ad3a-e20436af338b"
      },
      "source": [
        "### 12.3.1.- Inflección - pluralización y singularización"
      ]
    },
    {
      "cell_type": "code",
      "source": [],
      "metadata": {
        "id": "7D350g0MSSwt"
      },
      "id": "7D350g0MSSwt",
      "execution_count": 33,
      "outputs": []
    },
    {
      "cell_type": "markdown",
      "id": "ef5aab0f-846a-48c0-a2f1-408bb400d121",
      "metadata": {
        "id": "ef5aab0f-846a-48c0-a2f1-408bb400d121"
      },
      "source": [
        "Textblob también entiende de singulares y plurales, obten el plural de party y el singular de lives"
      ]
    },
    {
      "cell_type": "code",
      "execution_count": 96,
      "id": "5718bc60-eddc-48e8-8d5e-dc2a767ed7f1",
      "metadata": {
        "id": "5718bc60-eddc-48e8-8d5e-dc2a767ed7f1"
      },
      "outputs": [],
      "source": [
        "from textblob import Word"
      ]
    },
    {
      "cell_type": "code",
      "source": [
        "vegetal = Word(\"Tomato\")"
      ],
      "metadata": {
        "id": "EAUYJiGyTCn8"
      },
      "id": "EAUYJiGyTCn8",
      "execution_count": 97,
      "outputs": []
    },
    {
      "cell_type": "code",
      "source": [
        "vegetal.pluralize()"
      ],
      "metadata": {
        "colab": {
          "base_uri": "https://localhost:8080/",
          "height": 35
        },
        "id": "gSFjoMirTCr3",
        "outputId": "1a31b76e-d0d0-49c0-c1b3-55cd2c385a86"
      },
      "id": "gSFjoMirTCr3",
      "execution_count": 98,
      "outputs": [
        {
          "output_type": "execute_result",
          "data": {
            "text/plain": [
              "'Tomatoes'"
            ],
            "application/vnd.google.colaboratory.intrinsic+json": {
              "type": "string"
            }
          },
          "metadata": {},
          "execution_count": 98
        }
      ]
    },
    {
      "cell_type": "code",
      "source": [
        "vegetal = Word(\"Tomatoes\")"
      ],
      "metadata": {
        "id": "5aeBmGtPTQ8d"
      },
      "id": "5aeBmGtPTQ8d",
      "execution_count": 99,
      "outputs": []
    },
    {
      "cell_type": "code",
      "source": [
        "vegetal.singularize()"
      ],
      "metadata": {
        "colab": {
          "base_uri": "https://localhost:8080/",
          "height": 35
        },
        "id": "oR_1HJR2TCwC",
        "outputId": "bbca85c2-9fba-422a-af73-68818d4cb935"
      },
      "id": "oR_1HJR2TCwC",
      "execution_count": 100,
      "outputs": [
        {
          "output_type": "execute_result",
          "data": {
            "text/plain": [
              "'Tomato'"
            ],
            "application/vnd.google.colaboratory.intrinsic+json": {
              "type": "string"
            }
          },
          "metadata": {},
          "execution_count": 100
        }
      ]
    },
    {
      "cell_type": "code",
      "execution_count": 100,
      "id": "872a3c8a-e48c-4cfe-b348-e56dd08188ae",
      "metadata": {
        "id": "872a3c8a-e48c-4cfe-b348-e56dd08188ae"
      },
      "outputs": [],
      "source": []
    },
    {
      "cell_type": "markdown",
      "id": "f5d5d59e-bbd6-4de2-b58f-1428519b4c11",
      "metadata": {
        "id": "f5d5d59e-bbd6-4de2-b58f-1428519b4c11"
      },
      "source": [
        "### 12.3.2.- Spell Check"
      ]
    },
    {
      "cell_type": "markdown",
      "id": "8ca1a7cd-17a7-42f7-bd54-caf1b07d97c6",
      "metadata": {
        "id": "8ca1a7cd-17a7-42f7-bd54-caf1b07d97c6"
      },
      "source": [
        "Python tambien puede revisar ortografia, revisa que opina de la palabra whife"
      ]
    },
    {
      "cell_type": "code",
      "execution_count": 101,
      "id": "823191f0-a1d7-40d1-84ad-24a7d73ca319",
      "metadata": {
        "id": "823191f0-a1d7-40d1-84ad-24a7d73ca319"
      },
      "outputs": [],
      "source": [
        "palabra = Word(\"whife\")"
      ]
    },
    {
      "cell_type": "code",
      "execution_count": 102,
      "id": "ef6e6641-f4b5-4791-848e-6f8eaf902093",
      "metadata": {
        "colab": {
          "base_uri": "https://localhost:8080/"
        },
        "id": "ef6e6641-f4b5-4791-848e-6f8eaf902093",
        "outputId": "02ca89b3-1c79-42dc-bc84-eb75655e8a8f"
      },
      "outputs": [
        {
          "output_type": "execute_result",
          "data": {
            "text/plain": [
              "[('while', 0.5137123745819397),\n",
              " ('wife', 0.2454849498327759),\n",
              " ('white', 0.23612040133779263),\n",
              " ('whiff', 0.0033444816053511705),\n",
              " ('whine', 0.0013377926421404682)]"
            ]
          },
          "metadata": {},
          "execution_count": 102
        }
      ],
      "source": [
        "palabra.spellcheck()"
      ]
    },
    {
      "cell_type": "markdown",
      "id": "ff5a0ced-cacb-4350-a43f-2e7a79f03fcc",
      "metadata": {
        "id": "ff5a0ced-cacb-4350-a43f-2e7a79f03fcc"
      },
      "source": [
        "También puedes revisar ortografía de una oración completa como 'Yestarday was a bab dai'"
      ]
    },
    {
      "cell_type": "code",
      "execution_count": 103,
      "id": "004538b9-28d1-4747-9d93-22694ab5e8a6",
      "metadata": {
        "id": "004538b9-28d1-4747-9d93-22694ab5e8a6"
      },
      "outputs": [],
      "source": [
        "enunciado = TextBlob('Yestarday was a bab dai')"
      ]
    },
    {
      "cell_type": "code",
      "execution_count": 104,
      "id": "c1e1b6f3-a805-44e5-b13c-12e5322babaf",
      "metadata": {
        "colab": {
          "base_uri": "https://localhost:8080/"
        },
        "id": "c1e1b6f3-a805-44e5-b13c-12e5322babaf",
        "outputId": "e3c560f3-a1cc-4e71-eec4-e9a7db79732d"
      },
      "outputs": [
        {
          "output_type": "execute_result",
          "data": {
            "text/plain": [
              "TextBlob(\"Yesterday was a bad day\")"
            ]
          },
          "metadata": {},
          "execution_count": 104
        }
      ],
      "source": [
        "enunciado.correct()"
      ]
    },
    {
      "cell_type": "code",
      "execution_count": 104,
      "id": "7f3669fb-8add-408c-b626-bd577b9ed17b",
      "metadata": {
        "id": "7f3669fb-8add-408c-b626-bd577b9ed17b"
      },
      "outputs": [],
      "source": []
    },
    {
      "cell_type": "markdown",
      "id": "c21e533a-2efa-4aba-9a03-a28ef5de4d47",
      "metadata": {
        "id": "c21e533a-2efa-4aba-9a03-a28ef5de4d47"
      },
      "source": [
        "### 12.3.3.- Normalización"
      ]
    },
    {
      "cell_type": "markdown",
      "id": "2ac94f19-ad82-4099-bc91-24c05531a37f",
      "metadata": {
        "id": "2ac94f19-ad82-4099-bc91-24c05531a37f"
      },
      "source": [
        "Se puede obtener  el stem y lemma de una palabra plural como dormitories"
      ]
    },
    {
      "cell_type": "markdown",
      "id": "10f9d9a5-bdba-494e-90fd-a49cc8ad211e",
      "metadata": {
        "id": "10f9d9a5-bdba-494e-90fd-a49cc8ad211e"
      },
      "source": [
        "### 12.3.4.- Frecuencias de Palabras"
      ]
    },
    {
      "cell_type": "markdown",
      "id": "7ed806aa-5db4-4347-a02f-ff9fdb3db73c",
      "metadata": {
        "id": "7ed806aa-5db4-4347-a02f-ff9fdb3db73c"
      },
      "source": [
        "Que pasa si quieres conocer la frecuencia de una palabra?\n",
        "\n",
        "Importa el texto de dracula.txt y cuenta las veces que aparece la palabra crucifix, dracula, blood"
      ]
    },
    {
      "cell_type": "code",
      "execution_count": 105,
      "id": "53fe7f79-cfdc-4de0-a296-25dfbc20f294",
      "metadata": {
        "colab": {
          "base_uri": "https://localhost:8080/"
        },
        "id": "53fe7f79-cfdc-4de0-a296-25dfbc20f294",
        "outputId": "43d75a1c-985a-42d4-d1f5-9f3d7763598e"
      },
      "outputs": [
        {
          "output_type": "stream",
          "name": "stdout",
          "text": [
            "Drive already mounted at /content/drive; to attempt to forcibly remount, call drive.mount(\"/content/drive\", force_remount=True).\n"
          ]
        }
      ],
      "source": [
        "from google.colab import drive\n",
        "drive.mount('/content/drive')"
      ]
    },
    {
      "cell_type": "code",
      "execution_count": 106,
      "id": "b9075baa-cad4-4e6b-b0e6-c7d4b11f718b",
      "metadata": {
        "id": "b9075baa-cad4-4e6b-b0e6-c7d4b11f718b"
      },
      "outputs": [],
      "source": [
        "from pathlib import Path\n",
        "\n",
        "text = open(\"/content/drive/MyDrive/Colab Notebooks/A2Course/A2CursosFilesNStuff/dracula.txt\", encoding = \"utf-8\")"
      ]
    },
    {
      "cell_type": "code",
      "execution_count": 107,
      "id": "2d562946-ca57-4cdd-a077-e1e83d4edb0a",
      "metadata": {
        "id": "2d562946-ca57-4cdd-a077-e1e83d4edb0a"
      },
      "outputs": [],
      "source": [
        "libro_drac = TextBlob(text.read())"
      ]
    },
    {
      "cell_type": "code",
      "execution_count": 108,
      "metadata": {
        "colab": {
          "base_uri": "https://localhost:8080/"
        },
        "id": "CEqKuefgtI7y",
        "outputId": "2bfe0ea1-8fe2-4814-c04c-0e42fa09f22f"
      },
      "outputs": [
        {
          "output_type": "execute_result",
          "data": {
            "text/plain": [
              "19"
            ]
          },
          "metadata": {},
          "execution_count": 108
        }
      ],
      "source": [
        "libro_drac.words.count(\"crucifix\")"
      ],
      "id": "CEqKuefgtI7y"
    },
    {
      "cell_type": "code",
      "execution_count": 109,
      "metadata": {
        "id": "d3478d35-3e38-4dcd-9baf-00a660fd3e2b",
        "colab": {
          "base_uri": "https://localhost:8080/"
        },
        "outputId": "0d183451-5fc9-4f0a-e8f6-6e313c3e7dbb"
      },
      "outputs": [
        {
          "output_type": "execute_result",
          "data": {
            "text/plain": [
              "110"
            ]
          },
          "metadata": {},
          "execution_count": 109
        }
      ],
      "source": [
        "libro_drac.words.count(\"blood\")"
      ],
      "id": "d3478d35-3e38-4dcd-9baf-00a660fd3e2b"
    },
    {
      "cell_type": "code",
      "execution_count": 110,
      "id": "eef8e01a-8758-4f52-a7f0-6bec33c8dc32",
      "metadata": {
        "colab": {
          "base_uri": "https://localhost:8080/"
        },
        "id": "eef8e01a-8758-4f52-a7f0-6bec33c8dc32",
        "outputId": "745e3d77-edc5-458d-af44-51ba310739aa"
      },
      "outputs": [
        {
          "output_type": "execute_result",
          "data": {
            "text/plain": [
              "0"
            ]
          },
          "metadata": {},
          "execution_count": 110
        }
      ],
      "source": [
        "libro_drac.words.count(\"goku\")"
      ]
    },
    {
      "cell_type": "code",
      "execution_count": 47,
      "id": "ff8fa5b7-3070-47ad-b51b-324b464c873d",
      "metadata": {
        "id": "ff8fa5b7-3070-47ad-b51b-324b464c873d"
      },
      "outputs": [],
      "source": []
    },
    {
      "cell_type": "markdown",
      "id": "508c91f4-bfa0-4e8f-a6d4-ba3de6097b1f",
      "metadata": {
        "id": "508c91f4-bfa0-4e8f-a6d4-ba3de6097b1f"
      },
      "source": [
        "O puedes contar las frases especificas mediante el metodo count en un archivo ya tokenizado, intentalo con la frase \"lady capulet\""
      ]
    },
    {
      "cell_type": "markdown",
      "id": "d6a24a6a-4d99-49bf-aea2-e0a07637ffb0",
      "metadata": {
        "id": "d6a24a6a-4d99-49bf-aea2-e0a07637ffb0"
      },
      "source": [
        "### 12.3.5.- Definiciones, sinonimos y antonimos"
      ]
    },
    {
      "cell_type": "markdown",
      "id": "0984558b-22e1-4a02-8cd9-cefd7367cb5a",
      "metadata": {
        "id": "0984558b-22e1-4a02-8cd9-cefd7367cb5a"
      },
      "source": [
        "Puedes buscar definiciones desde textblob\n",
        "\n",
        "Prueba con la definición de \"worker\""
      ]
    },
    {
      "cell_type": "code",
      "execution_count": 111,
      "id": "abb22f78-7d0e-4a1d-b400-7ee2b674a29f",
      "metadata": {
        "id": "abb22f78-7d0e-4a1d-b400-7ee2b674a29f"
      },
      "outputs": [],
      "source": [
        "prueba = Word(\"worker\")"
      ]
    },
    {
      "cell_type": "code",
      "execution_count": 112,
      "id": "31bf308c-06c1-4343-8054-de1072535c32",
      "metadata": {
        "colab": {
          "base_uri": "https://localhost:8080/"
        },
        "id": "31bf308c-06c1-4343-8054-de1072535c32",
        "outputId": "ffc94b23-0c50-4a98-cbcd-a729588e22b8"
      },
      "outputs": [
        {
          "output_type": "execute_result",
          "data": {
            "text/plain": [
              "['a person who works at a specific occupation',\n",
              " 'a member of the working class (not necessarily employed)',\n",
              " 'sterile member of a colony of social insects that forages for food and cares for the larvae',\n",
              " 'a person who acts and gets things done']"
            ]
          },
          "metadata": {},
          "execution_count": 112
        }
      ],
      "source": [
        "prueba.definitions"
      ]
    },
    {
      "cell_type": "markdown",
      "id": "ee031c36-9d71-4c9f-9ef2-257da78b1aad",
      "metadata": {
        "id": "ee031c36-9d71-4c9f-9ef2-257da78b1aad"
      },
      "source": [
        "O sinonimos también, con synsets"
      ]
    },
    {
      "cell_type": "code",
      "execution_count": 113,
      "id": "5e6a5752-de27-4ff0-a621-51db913a8291",
      "metadata": {
        "colab": {
          "base_uri": "https://localhost:8080/"
        },
        "id": "5e6a5752-de27-4ff0-a621-51db913a8291",
        "outputId": "f24e81f5-e8df-40c4-97f8-82cf15145164"
      },
      "outputs": [
        {
          "output_type": "execute_result",
          "data": {
            "text/plain": [
              "[Synset('worker.n.01'),\n",
              " Synset('proletarian.n.01'),\n",
              " Synset('worker.n.03'),\n",
              " Synset('actor.n.02')]"
            ]
          },
          "metadata": {},
          "execution_count": 113
        }
      ],
      "source": [
        "prueba.synsets #Gets synonyms"
      ]
    },
    {
      "cell_type": "code",
      "execution_count": 47,
      "id": "48e67be8-4224-4ee4-b90b-4f30bfc9f3af",
      "metadata": {
        "id": "48e67be8-4224-4ee4-b90b-4f30bfc9f3af"
      },
      "outputs": [],
      "source": []
    },
    {
      "cell_type": "markdown",
      "id": "8e87a862-2232-43fc-a696-51008b6546b4",
      "metadata": {
        "id": "8e87a862-2232-43fc-a696-51008b6546b4"
      },
      "source": [
        "### 12.3.6.- Stop Words"
      ]
    },
    {
      "cell_type": "markdown",
      "id": "73491293-8524-4065-b7d6-5e4e5aed7f4c",
      "metadata": {
        "id": "73491293-8524-4065-b7d6-5e4e5aed7f4c"
      },
      "source": [
        "Las stop words son palabras que generalmente no aportan información útil para un analisis de machine learning. \n",
        "\n",
        "Hay que traerlas desde ntlk"
      ]
    },
    {
      "cell_type": "code",
      "execution_count": 114,
      "id": "76750563-a848-4bf0-84da-7681e43a04bd",
      "metadata": {
        "colab": {
          "base_uri": "https://localhost:8080/"
        },
        "id": "76750563-a848-4bf0-84da-7681e43a04bd",
        "outputId": "3453dff0-429e-461f-dc1e-a069980ed6ba"
      },
      "outputs": [
        {
          "output_type": "stream",
          "name": "stderr",
          "text": [
            "[nltk_data] Downloading package stopwords to /root/nltk_data...\n",
            "[nltk_data]   Unzipping corpora/stopwords.zip.\n"
          ]
        },
        {
          "output_type": "execute_result",
          "data": {
            "text/plain": [
              "True"
            ]
          },
          "metadata": {},
          "execution_count": 114
        }
      ],
      "source": [
        "import nltk\n",
        "nltk.download(\"stopwords\")"
      ]
    },
    {
      "cell_type": "code",
      "execution_count": 115,
      "id": "6d3a9e5a-f9a7-4f3e-b887-a3821e7b68c3",
      "metadata": {
        "id": "6d3a9e5a-f9a7-4f3e-b887-a3821e7b68c3"
      },
      "outputs": [],
      "source": [
        "from nltk.corpus import stopwords"
      ]
    },
    {
      "cell_type": "code",
      "execution_count": 116,
      "id": "89f5696b-d42f-4679-b6d8-5071bfb727e2",
      "metadata": {
        "id": "89f5696b-d42f-4679-b6d8-5071bfb727e2"
      },
      "outputs": [],
      "source": [
        "stops = stopwords.words(\"english\")"
      ]
    },
    {
      "cell_type": "code",
      "execution_count": 121,
      "id": "e5883195-e051-4d1c-bd41-c08a1ee0ce73",
      "metadata": {
        "colab": {
          "base_uri": "https://localhost:8080/"
        },
        "id": "e5883195-e051-4d1c-bd41-c08a1ee0ce73",
        "outputId": "856becef-2e3e-47bc-872f-c29df3f6a16e"
      },
      "outputs": [
        {
          "output_type": "stream",
          "name": "stdout",
          "text": [
            "['i', 'me', 'my', 'myself', 'we', 'our', 'ours', 'ourselves', 'you', \"you're\", \"you've\", \"you'll\", \"you'd\", 'your', 'yours', 'yourself', 'yourselves', 'he', 'him', 'his', 'himself', 'she', \"she's\", 'her', 'hers', 'herself', 'it', \"it's\", 'its', 'itself', 'they', 'them', 'their', 'theirs', 'themselves', 'what', 'which', 'who', 'whom', 'this', 'that', \"that'll\", 'these', 'those', 'am', 'is', 'are', 'was', 'were', 'be', 'been', 'being', 'have', 'has', 'had', 'having', 'do', 'does', 'did', 'doing', 'a', 'an', 'the', 'and', 'but', 'if', 'or', 'because', 'as', 'until', 'while', 'of', 'at', 'by', 'for', 'with', 'about', 'against', 'between', 'into', 'through', 'during', 'before', 'after', 'above', 'below', 'to', 'from', 'up', 'down', 'in', 'out', 'on', 'off', 'over', 'under', 'again', 'further', 'then', 'once', 'here', 'there', 'when', 'where', 'why', 'how', 'all', 'any', 'both', 'each', 'few', 'more', 'most', 'other', 'some', 'such', 'no', 'nor', 'not', 'only', 'own', 'same', 'so', 'than', 'too', 'very', 's', 't', 'can', 'will', 'just', 'don', \"don't\", 'should', \"should've\", 'now', 'd', 'll', 'm', 'o', 're', 've', 'y', 'ain', 'aren', \"aren't\", 'couldn', \"couldn't\", 'didn', \"didn't\", 'doesn', \"doesn't\", 'hadn', \"hadn't\", 'hasn', \"hasn't\", 'haven', \"haven't\", 'isn', \"isn't\", 'ma', 'mightn', \"mightn't\", 'mustn', \"mustn't\", 'needn', \"needn't\", 'shan', \"shan't\", 'shouldn', \"shouldn't\", 'wasn', \"wasn't\", 'weren', \"weren't\", 'won', \"won't\", 'wouldn', \"wouldn't\"]\n"
          ]
        }
      ],
      "source": [
        "print(stops) #print'll print it horizontally\n",
        "# stops"
      ]
    },
    {
      "cell_type": "code",
      "execution_count": 47,
      "id": "8ce7a090-4e62-42c1-917d-38513df32416",
      "metadata": {
        "id": "8ce7a090-4e62-42c1-917d-38513df32416"
      },
      "outputs": [],
      "source": []
    },
    {
      "cell_type": "markdown",
      "id": "c295a011-8cf9-45c8-9902-9fbc5a4ca2ec",
      "metadata": {
        "id": "c295a011-8cf9-45c8-9902-9fbc5a4ca2ec"
      },
      "source": [
        "Vamos a crear un texto como I have a beautiful day"
      ]
    },
    {
      "cell_type": "code",
      "execution_count": 118,
      "id": "aa680268-1287-4771-8940-ddaf7f1b714f",
      "metadata": {
        "id": "aa680268-1287-4771-8940-ddaf7f1b714f"
      },
      "outputs": [],
      "source": [
        "blob = TextBlob(\"I have a beautiful day\")"
      ]
    },
    {
      "cell_type": "code",
      "execution_count": 47,
      "id": "24266fe2-d07b-4e61-98fa-9630dd66a73b",
      "metadata": {
        "id": "24266fe2-d07b-4e61-98fa-9630dd66a73b"
      },
      "outputs": [],
      "source": []
    },
    {
      "cell_type": "markdown",
      "id": "efa01ab3-282e-46ce-b3f2-1f686b6d6a7d",
      "metadata": {
        "id": "efa01ab3-282e-46ce-b3f2-1f686b6d6a7d"
      },
      "source": [
        "Y eliminar su stop words"
      ]
    },
    {
      "cell_type": "code",
      "execution_count": 119,
      "id": "cd1a22fe-271a-444d-9de2-b28adc2ad8a1",
      "metadata": {
        "colab": {
          "base_uri": "https://localhost:8080/"
        },
        "id": "cd1a22fe-271a-444d-9de2-b28adc2ad8a1",
        "outputId": "754ff511-a0d2-4875-dee5-e46f2d1b440f"
      },
      "outputs": [
        {
          "output_type": "execute_result",
          "data": {
            "text/plain": [
              "['I', 'beautiful', 'day']"
            ]
          },
          "metadata": {},
          "execution_count": 119
        }
      ],
      "source": [
        "[word for word in blob.words if word not in stops]"
      ]
    },
    {
      "cell_type": "code",
      "execution_count": 47,
      "id": "a8fb9762-1552-47ee-8620-99653a058f43",
      "metadata": {
        "id": "a8fb9762-1552-47ee-8620-99653a058f43"
      },
      "outputs": [],
      "source": []
    },
    {
      "cell_type": "markdown",
      "id": "23489048-92d5-4cbb-8da8-f6d40af8933c",
      "metadata": {
        "id": "23489048-92d5-4cbb-8da8-f6d40af8933c"
      },
      "source": [
        "## 12.4.- Visualizando frecuencias de palabras"
      ]
    },
    {
      "cell_type": "markdown",
      "id": "c720242c-68d1-4ebf-a93a-97a6d5856b90",
      "metadata": {
        "id": "c720242c-68d1-4ebf-a93a-97a6d5856b90"
      },
      "source": [
        "Vamos a armar un word cloud de dracula, comencemos volviendo a cargar dracula"
      ]
    },
    {
      "cell_type": "code",
      "execution_count": 47,
      "id": "8dd6fdee-856c-4e3f-b6c5-e28939e75802",
      "metadata": {
        "id": "8dd6fdee-856c-4e3f-b6c5-e28939e75802"
      },
      "outputs": [],
      "source": []
    },
    {
      "cell_type": "code",
      "execution_count": 47,
      "id": "0dae5489-d191-4f35-9d88-95c300106fa4",
      "metadata": {
        "id": "0dae5489-d191-4f35-9d88-95c300106fa4"
      },
      "outputs": [],
      "source": []
    },
    {
      "cell_type": "code",
      "execution_count": 47,
      "id": "1548a24d-dec4-4262-8a98-2e9f76f9cf9a",
      "metadata": {
        "id": "1548a24d-dec4-4262-8a98-2e9f76f9cf9a"
      },
      "outputs": [],
      "source": []
    },
    {
      "cell_type": "markdown",
      "id": "c45fb09e-ce43-4d66-bd89-8ef7d47b325d",
      "metadata": {
        "id": "c45fb09e-ce43-4d66-bd89-8ef7d47b325d"
      },
      "source": [
        "Ahora vamos cargando las stop words de inglés"
      ]
    },
    {
      "cell_type": "code",
      "execution_count": 47,
      "id": "5a85f8c9-7397-480c-9687-bb0f135a4942",
      "metadata": {
        "id": "5a85f8c9-7397-480c-9687-bb0f135a4942"
      },
      "outputs": [],
      "source": []
    },
    {
      "cell_type": "code",
      "execution_count": 47,
      "id": "2ef7e3cb-1a84-43af-823e-f20019705b76",
      "metadata": {
        "id": "2ef7e3cb-1a84-43af-823e-f20019705b76"
      },
      "outputs": [],
      "source": []
    },
    {
      "cell_type": "code",
      "execution_count": 47,
      "id": "15de9bea-5c1d-4faa-b4bc-97e302f86e96",
      "metadata": {
        "id": "15de9bea-5c1d-4faa-b4bc-97e302f86e96"
      },
      "outputs": [],
      "source": []
    },
    {
      "cell_type": "code",
      "execution_count": 47,
      "id": "0d8224ca-64dc-4a9d-8cf0-24bb2a65a8bb",
      "metadata": {
        "id": "0d8224ca-64dc-4a9d-8cf0-24bb2a65a8bb"
      },
      "outputs": [],
      "source": []
    },
    {
      "cell_type": "markdown",
      "id": "86a25660-1985-4ef1-93aa-9d1fff2bf7cd",
      "metadata": {
        "id": "86a25660-1985-4ef1-93aa-9d1fff2bf7cd"
      },
      "source": [
        "Vamos a obtener las frecuencias de palabras"
      ]
    },
    {
      "cell_type": "code",
      "execution_count": 47,
      "id": "f2879a73-a7c4-4574-bbec-8bb18e0a8727",
      "metadata": {
        "id": "f2879a73-a7c4-4574-bbec-8bb18e0a8727"
      },
      "outputs": [],
      "source": []
    },
    {
      "cell_type": "markdown",
      "id": "5c827250-a521-44c8-88e5-a7d3fa6d04ab",
      "metadata": {
        "id": "5c827250-a521-44c8-88e5-a7d3fa6d04ab"
      },
      "source": [
        "Ahor avamos a eliminar las stop words"
      ]
    },
    {
      "cell_type": "code",
      "execution_count": 47,
      "id": "5305ddf9-78d2-4232-9718-9d6978e8bc07",
      "metadata": {
        "id": "5305ddf9-78d2-4232-9718-9d6978e8bc07"
      },
      "outputs": [],
      "source": []
    },
    {
      "cell_type": "markdown",
      "id": "190b716c-9513-47f2-88ec-1e815749bb64",
      "metadata": {
        "id": "190b716c-9513-47f2-88ec-1e815749bb64"
      },
      "source": [
        "Ordenamos las palabras restantes por frecuencia"
      ]
    },
    {
      "cell_type": "code",
      "execution_count": 47,
      "id": "f1724d9d-f244-4ae6-8f60-232adbde0103",
      "metadata": {
        "id": "f1724d9d-f244-4ae6-8f60-232adbde0103"
      },
      "outputs": [],
      "source": []
    },
    {
      "cell_type": "code",
      "execution_count": 47,
      "id": "19faa7a8-58c2-45dc-b418-88b0cfd90668",
      "metadata": {
        "id": "19faa7a8-58c2-45dc-b418-88b0cfd90668"
      },
      "outputs": [],
      "source": []
    },
    {
      "cell_type": "markdown",
      "id": "8e9f35a5-832a-4cf2-a87b-b351d54fc6a7",
      "metadata": {
        "id": "8e9f35a5-832a-4cf2-a87b-b351d54fc6a7"
      },
      "source": [
        "Conseguimos las top 20 palabras"
      ]
    },
    {
      "cell_type": "code",
      "execution_count": 47,
      "id": "657c489b-2a85-4622-ad5a-6239c1369d07",
      "metadata": {
        "id": "657c489b-2a85-4622-ad5a-6239c1369d07"
      },
      "outputs": [],
      "source": []
    },
    {
      "cell_type": "markdown",
      "id": "2e29de74-5fc7-4078-bb5e-1dce08f0a888",
      "metadata": {
        "id": "2e29de74-5fc7-4078-bb5e-1dce08f0a888"
      },
      "source": [
        "Luego convertimos el top 20 a un dataframe"
      ]
    },
    {
      "cell_type": "code",
      "execution_count": 47,
      "id": "9179be06-2018-42d7-9f23-2f0bd71b41f0",
      "metadata": {
        "id": "9179be06-2018-42d7-9f23-2f0bd71b41f0"
      },
      "outputs": [],
      "source": []
    },
    {
      "cell_type": "code",
      "execution_count": 47,
      "id": "40b14a31-d9aa-492f-bf64-28a74db404c2",
      "metadata": {
        "id": "40b14a31-d9aa-492f-bf64-28a74db404c2"
      },
      "outputs": [],
      "source": []
    },
    {
      "cell_type": "code",
      "execution_count": 47,
      "id": "1357758b-a890-42d1-90fa-cfdf12a15d96",
      "metadata": {
        "id": "1357758b-a890-42d1-90fa-cfdf12a15d96"
      },
      "outputs": [],
      "source": []
    },
    {
      "cell_type": "code",
      "execution_count": 47,
      "id": "e1e2d70d-3ee7-42da-803b-57bd75e423ae",
      "metadata": {
        "id": "e1e2d70d-3ee7-42da-803b-57bd75e423ae"
      },
      "outputs": [],
      "source": []
    },
    {
      "cell_type": "code",
      "execution_count": 47,
      "id": "7383c18c-194f-458d-a2ec-f3ec4c8a6508",
      "metadata": {
        "id": "7383c18c-194f-458d-a2ec-f3ec4c8a6508"
      },
      "outputs": [],
      "source": []
    },
    {
      "cell_type": "code",
      "execution_count": 47,
      "id": "44b4a72e-3816-4b81-ae4b-bdbc96be5633",
      "metadata": {
        "id": "44b4a72e-3816-4b81-ae4b-bdbc96be5633"
      },
      "outputs": [],
      "source": []
    },
    {
      "cell_type": "markdown",
      "id": "80b11ddd-51f8-48ae-aa9a-b720b0dd2b2d",
      "metadata": {
        "id": "80b11ddd-51f8-48ae-aa9a-b720b0dd2b2d"
      },
      "source": [
        "Y visualizamos el dataframe en una grafica de barras sencillita"
      ]
    },
    {
      "cell_type": "code",
      "execution_count": 47,
      "id": "a41d3ce2-1878-4adc-bcf4-f8290ba8c885",
      "metadata": {
        "id": "a41d3ce2-1878-4adc-bcf4-f8290ba8c885"
      },
      "outputs": [],
      "source": []
    },
    {
      "cell_type": "code",
      "execution_count": 47,
      "id": "bd9e1ad7-f1e8-4dcd-9afe-1515bbbeed94",
      "metadata": {
        "id": "bd9e1ad7-f1e8-4dcd-9afe-1515bbbeed94"
      },
      "outputs": [],
      "source": []
    },
    {
      "cell_type": "markdown",
      "id": "ba55c327-cdb1-4b2b-89ad-a13ab5859a53",
      "metadata": {
        "id": "ba55c327-cdb1-4b2b-89ad-a13ab5859a53"
      },
      "source": [
        "### 12.4.1.- Word Cloud"
      ]
    },
    {
      "cell_type": "markdown",
      "id": "e7f4a5b0-6410-4bf6-abc0-43585d660371",
      "metadata": {
        "id": "e7f4a5b0-6410-4bf6-abc0-43585d660371"
      },
      "source": [
        "Ahora necesitamos instalar el módulo WordCloud"
      ]
    },
    {
      "cell_type": "code",
      "execution_count": 47,
      "id": "08bd4c00-1f78-4e04-8c23-14c5f7b55613",
      "metadata": {
        "id": "08bd4c00-1f78-4e04-8c23-14c5f7b55613"
      },
      "outputs": [],
      "source": []
    },
    {
      "cell_type": "markdown",
      "id": "4f36f4d0-dcbf-46f9-8885-90bcba9b5504",
      "metadata": {
        "id": "4f36f4d0-dcbf-46f9-8885-90bcba9b5504"
      },
      "source": [
        "Cargamos las librerias que nos importan"
      ]
    },
    {
      "cell_type": "markdown",
      "id": "985e95a1-e1e5-4ef4-ac99-54a2f871b2cb",
      "metadata": {
        "id": "985e95a1-e1e5-4ef4-ac99-54a2f871b2cb"
      },
      "source": [
        "Vamos a cargar el texto de tracua y las palabras stop"
      ]
    },
    {
      "cell_type": "code",
      "execution_count": 47,
      "id": "124a9599-e258-485f-bb62-3b7f91f715dc",
      "metadata": {
        "id": "124a9599-e258-485f-bb62-3b7f91f715dc"
      },
      "outputs": [],
      "source": []
    },
    {
      "cell_type": "code",
      "execution_count": 47,
      "id": "dcfdd768-f707-4132-a521-984230ebd366",
      "metadata": {
        "id": "dcfdd768-f707-4132-a521-984230ebd366"
      },
      "outputs": [],
      "source": []
    },
    {
      "cell_type": "markdown",
      "id": "b73b6b70-587b-4328-88cc-943e33f76544",
      "metadata": {
        "id": "b73b6b70-587b-4328-88cc-943e33f76544"
      },
      "source": [
        "Vamos a crear una mascara para la nube usando la funcion impread"
      ]
    },
    {
      "cell_type": "code",
      "execution_count": 47,
      "id": "2db8b70b-f8a4-46d6-84cb-738f7788fda9",
      "metadata": {
        "id": "2db8b70b-f8a4-46d6-84cb-738f7788fda9"
      },
      "outputs": [],
      "source": []
    },
    {
      "cell_type": "code",
      "execution_count": 47,
      "id": "31bd26c7-2793-4713-a4c3-b909d6532694",
      "metadata": {
        "id": "31bd26c7-2793-4713-a4c3-b909d6532694"
      },
      "outputs": [],
      "source": []
    },
    {
      "cell_type": "code",
      "execution_count": 47,
      "id": "96e0441d-12af-40ba-8be1-90d20a49a29a",
      "metadata": {
        "id": "96e0441d-12af-40ba-8be1-90d20a49a29a"
      },
      "outputs": [],
      "source": []
    },
    {
      "cell_type": "markdown",
      "id": "9b1c989e-54a6-4bb0-a7e2-48e2b58bf838",
      "metadata": {
        "id": "9b1c989e-54a6-4bb0-a7e2-48e2b58bf838"
      },
      "source": [
        "OK, ahora ponemos algunas caracteristicas especifcas de la nube a crear"
      ]
    },
    {
      "cell_type": "markdown",
      "id": "d5f07cfe-c905-46c3-a48c-3a3674425fce",
      "metadata": {
        "id": "d5f07cfe-c905-46c3-a48c-3a3674425fce"
      },
      "source": [
        "Luego se aplica el metodo de generar wordcloud"
      ]
    },
    {
      "cell_type": "markdown",
      "id": "4a75eaa7-c016-4e16-b273-6718bb51753e",
      "metadata": {
        "id": "4a75eaa7-c016-4e16-b273-6718bb51753e"
      },
      "source": [
        "Y la guardas como imagen"
      ]
    },
    {
      "cell_type": "markdown",
      "id": "5a9672b9-a21a-4973-8e0c-2d7311fe7cc5",
      "metadata": {
        "id": "5a9672b9-a21a-4973-8e0c-2d7311fe7cc5"
      },
      "source": [
        "## 12.4.- Reconocimiento de Entidades Nombradas con spaCy"
      ]
    },
    {
      "cell_type": "markdown",
      "id": "2fad47b9-eb18-4845-ab2b-255fc7310340",
      "metadata": {
        "id": "2fad47b9-eb18-4845-ab2b-255fc7310340"
      },
      "source": [
        "Instala Spacy desde Prompt"
      ]
    },
    {
      "cell_type": "markdown",
      "id": "d844b342-963c-48f0-bbd5-74d8be4158c0",
      "metadata": {
        "id": "d844b342-963c-48f0-bbd5-74d8be4158c0"
      },
      "source": [
        "Carga el modelo de lenguaje"
      ]
    },
    {
      "cell_type": "code",
      "execution_count": 122,
      "id": "8e017568-4208-4356-ba08-994af724e3b4",
      "metadata": {
        "colab": {
          "base_uri": "https://localhost:8080/"
        },
        "id": "8e017568-4208-4356-ba08-994af724e3b4",
        "outputId": "3788b23d-a630-4ec8-a300-4d43a0de6870"
      },
      "outputs": [
        {
          "output_type": "stream",
          "name": "stderr",
          "text": [
            "/usr/local/lib/python3.9/dist-packages/torch/cuda/__init__.py:497: UserWarning: Can't initialize NVML\n",
            "  warnings.warn(\"Can't initialize NVML\")\n"
          ]
        }
      ],
      "source": [
        "import spacy"
      ]
    },
    {
      "cell_type": "code",
      "execution_count": 124,
      "id": "0f4d4e22-4dbf-4be0-b1ce-8b29b514d8e3",
      "metadata": {
        "id": "0f4d4e22-4dbf-4be0-b1ce-8b29b514d8e3"
      },
      "outputs": [],
      "source": [
        "nlp = spacy. load(\"en_core_web_sm\")"
      ]
    },
    {
      "cell_type": "code",
      "source": [],
      "metadata": {
        "id": "frjPKHHSyRfd"
      },
      "id": "frjPKHHSyRfd",
      "execution_count": null,
      "outputs": []
    },
    {
      "cell_type": "markdown",
      "id": "de91b834-01b8-4026-a932-ebbe52d48113",
      "metadata": {
        "id": "de91b834-01b8-4026-a932-ebbe52d48113"
      },
      "source": [
        "Crea un documento de spacy con el texto airbnb is an American company that operates an online marketplace for lodging, primarily homestays for vacation rentals, and tourism activities. Based in San Francisco, California, the platform is accessible via website and mobile app. Airbnb does not own any of the listed properties; instead, it profits by receiving commission from each booking. The company was founded in 2008 by Brian Chesky, Nathan Blecharczyk and Joe Gebbia. Airbnb is a shortened version of its original name, AirBedandBreakfast.com"
      ]
    },
    {
      "cell_type": "markdown",
      "id": "d9deeb9a-0202-4fcf-9fe0-3ed7e15b5032",
      "metadata": {
        "id": "d9deeb9a-0202-4fcf-9fe0-3ed7e15b5032"
      },
      "source": [
        "Obten las entidades nombradas"
      ]
    },
    {
      "cell_type": "code",
      "execution_count": 125,
      "id": "bbe4f362-5750-415c-8c81-275dbff831d5",
      "metadata": {
        "id": "bbe4f362-5750-415c-8c81-275dbff831d5"
      },
      "outputs": [],
      "source": [
        "documento =  nlp(\"airbnb is an American company that operates an online marketplace for lodging, primarily homestays for vacation rentals, and tourism activities. Based in San Francisco, California, the platform is accessible via website and mobile app. Airbnb does not own any of the listed properties; instead, it profits by receiving commission from each booking. The company was founded in 2008 by Brian Chesky, Nathan Blecharczyk and Joe Gebbia. Airbnb is a shortened version of its original name, AirBedandBreakfast.com\")"
      ]
    },
    {
      "cell_type": "code",
      "source": [
        "for entity in documento.ents:\n",
        "  print(f'{entity.text}:{entity.label_}')"
      ],
      "metadata": {
        "colab": {
          "base_uri": "https://localhost:8080/"
        },
        "id": "5E8ML96oyAxn",
        "outputId": "54c77ed3-e7d7-464d-a4b6-2f330ca17106"
      },
      "id": "5E8ML96oyAxn",
      "execution_count": 127,
      "outputs": [
        {
          "output_type": "stream",
          "name": "stdout",
          "text": [
            "American:NORP\n",
            "San Francisco:GPE\n",
            "California:GPE\n",
            "2008:DATE\n",
            "Brian Chesky:PERSON\n",
            "Nathan Blecharczyk:PERSON\n",
            "Joe Gebbia:PERSON\n"
          ]
        }
      ]
    },
    {
      "cell_type": "code",
      "execution_count": 47,
      "id": "17a00311-99fc-40c4-95ad-31d5a906fdf6",
      "metadata": {
        "id": "17a00311-99fc-40c4-95ad-31d5a906fdf6"
      },
      "outputs": [],
      "source": []
    },
    {
      "cell_type": "code",
      "execution_count": 47,
      "id": "c21607a4-f63b-4750-8001-69dbdc9cedab",
      "metadata": {
        "id": "c21607a4-f63b-4750-8001-69dbdc9cedab"
      },
      "outputs": [],
      "source": []
    }
  ],
  "metadata": {
    "kernelspec": {
      "display_name": "Python 3",
      "language": "python",
      "name": "python3"
    },
    "language_info": {
      "codemirror_mode": {
        "name": "ipython",
        "version": 3
      },
      "file_extension": ".py",
      "mimetype": "text/x-python",
      "name": "python",
      "nbconvert_exporter": "python",
      "pygments_lexer": "ipython3",
      "version": "3.8.8"
    },
    "colab": {
      "provenance": [],
      "include_colab_link": true
    }
  },
  "nbformat": 4,
  "nbformat_minor": 5
}